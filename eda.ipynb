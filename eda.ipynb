{
 "cells": [
  {
   "cell_type": "markdown",
   "id": "88446997",
   "metadata": {},
   "source": [
    "# Autoregulatory Mechanism Detection - Data Preparation\n",
    "\n",
    "**Goal:** Prepare a labeled dataset to train ML models that identify autoregulatory mechanisms (autophosphorylation, autoubiquitination, etc.) in scientific papers."
   ]
  },
  {
   "cell_type": "markdown",
   "id": "6eedb834",
   "metadata": {},
   "source": [
    "## Setup"
   ]
  },
  {
   "cell_type": "code",
   "execution_count": 1,
   "id": "38adc396",
   "metadata": {},
   "outputs": [],
   "source": [
    "import pyreadr\n",
    "import pandas as pd\n",
    "import numpy as np\n",
    "import matplotlib.pyplot as plt\n",
    "import re\n",
    "from html import unescape"
   ]
  },
  {
   "cell_type": "markdown",
   "id": "3201e11d",
   "metadata": {},
   "source": [
    "## Data Loading"
   ]
  },
  {
   "cell_type": "code",
   "execution_count": 2,
   "id": "da739ea3",
   "metadata": {},
   "outputs": [
    {
     "data": {
      "text/html": [
       "<div>\n",
       "<style scoped>\n",
       "    .dataframe tbody tr th:only-of-type {\n",
       "        vertical-align: middle;\n",
       "    }\n",
       "\n",
       "    .dataframe tbody tr th {\n",
       "        vertical-align: top;\n",
       "    }\n",
       "\n",
       "    .dataframe thead th {\n",
       "        text-align: right;\n",
       "    }\n",
       "</style>\n",
       "<table border=\"1\" class=\"dataframe\">\n",
       "  <thead>\n",
       "    <tr style=\"text-align: right;\">\n",
       "      <th></th>\n",
       "      <th>PMID</th>\n",
       "      <th>Title</th>\n",
       "      <th>Abstract</th>\n",
       "      <th>Journal</th>\n",
       "      <th>Authors</th>\n",
       "    </tr>\n",
       "  </thead>\n",
       "  <tbody>\n",
       "    <tr>\n",
       "      <th>0</th>\n",
       "      <td>15165820</td>\n",
       "      <td>Comparative genomic analyses of frog virus 3, ...</td>\n",
       "      <td>Frog virus 3 (FV3) is the type species member ...</td>\n",
       "      <td>Virology</td>\n",
       "      <td>Wendy G H Tan, Todd J Barkman, V Gregory Chinc...</td>\n",
       "    </tr>\n",
       "    <tr>\n",
       "      <th>1</th>\n",
       "      <td>16912294</td>\n",
       "      <td>Genome of invertebrate iridescent virus type 3...</td>\n",
       "      <td>Iridoviruses (IVs) are classified into five ge...</td>\n",
       "      <td>Journal of virology</td>\n",
       "      <td>Gustavo Delhon, Edan R Tulman, Claudio L Afons...</td>\n",
       "    </tr>\n",
       "    <tr>\n",
       "      <th>2</th>\n",
       "      <td>11448171</td>\n",
       "      <td>Analysis of the first complete DNA sequence of...</td>\n",
       "      <td>Chilo iridescent virus (CIV), the type species...</td>\n",
       "      <td>Virology</td>\n",
       "      <td>N J Jakob, K Müller, U Bahr, G Darai</td>\n",
       "    </tr>\n",
       "    <tr>\n",
       "      <th>3</th>\n",
       "      <td>17239238</td>\n",
       "      <td>Comparative genomic analysis of the family Iri...</td>\n",
       "      <td>Members of the family Iridoviridae can cause s...</td>\n",
       "      <td>Virology journal</td>\n",
       "      <td>Heather E Eaton, Julie Metcalf, Emily Penny, V...</td>\n",
       "    </tr>\n",
       "    <tr>\n",
       "      <th>4</th>\n",
       "      <td>20633916</td>\n",
       "      <td>Frog virus 3 ORF 53R, a putative myristoylated...</td>\n",
       "      <td>Although previous work identified 12 complemen...</td>\n",
       "      <td>Virology</td>\n",
       "      <td>Dexter S Whitley, Kwang Yu, Robert C Sample, A...</td>\n",
       "    </tr>\n",
       "  </tbody>\n",
       "</table>\n",
       "</div>"
      ],
      "text/plain": [
       "       PMID                                              Title  \\\n",
       "0  15165820  Comparative genomic analyses of frog virus 3, ...   \n",
       "1  16912294  Genome of invertebrate iridescent virus type 3...   \n",
       "2  11448171  Analysis of the first complete DNA sequence of...   \n",
       "3  17239238  Comparative genomic analysis of the family Iri...   \n",
       "4  20633916  Frog virus 3 ORF 53R, a putative myristoylated...   \n",
       "\n",
       "                                            Abstract              Journal  \\\n",
       "0  Frog virus 3 (FV3) is the type species member ...             Virology   \n",
       "1  Iridoviruses (IVs) are classified into five ge...  Journal of virology   \n",
       "2  Chilo iridescent virus (CIV), the type species...             Virology   \n",
       "3  Members of the family Iridoviridae can cause s...     Virology journal   \n",
       "4  Although previous work identified 12 complemen...             Virology   \n",
       "\n",
       "                                             Authors  \n",
       "0  Wendy G H Tan, Todd J Barkman, V Gregory Chinc...  \n",
       "1  Gustavo Delhon, Edan R Tulman, Claudio L Afons...  \n",
       "2               N J Jakob, K Müller, U Bahr, G Darai  \n",
       "3  Heather E Eaton, Julie Metcalf, Emily Penny, V...  \n",
       "4  Dexter S Whitley, Kwang Yu, Robert C Sample, A...  "
      ]
     },
     "execution_count": 2,
     "metadata": {},
     "output_type": "execute_result"
    }
   ],
   "source": [
    "# PubMed dataset loading\n",
    "pubmed = pyreadr.read_r('data/raw/pubmed.rds')\n",
    "pubmed_df = list(pubmed.values())[0]\n",
    "pubmed_df.head()"
   ]
  },
  {
   "cell_type": "code",
   "execution_count": 3,
   "id": "9743b32d",
   "metadata": {},
   "outputs": [
    {
     "data": {
      "text/html": [
       "<div>\n",
       "<style scoped>\n",
       "    .dataframe tbody tr th:only-of-type {\n",
       "        vertical-align: middle;\n",
       "    }\n",
       "\n",
       "    .dataframe tbody tr th {\n",
       "        vertical-align: top;\n",
       "    }\n",
       "\n",
       "    .dataframe thead th {\n",
       "        text-align: right;\n",
       "    }\n",
       "</style>\n",
       "<table border=\"1\" class=\"dataframe\">\n",
       "  <thead>\n",
       "    <tr style=\"text-align: right;\">\n",
       "      <th></th>\n",
       "      <th>AC</th>\n",
       "      <th>OS</th>\n",
       "      <th>RN</th>\n",
       "      <th>RP</th>\n",
       "      <th>RC</th>\n",
       "      <th>RX</th>\n",
       "      <th>RG</th>\n",
       "      <th>RA</th>\n",
       "      <th>RT</th>\n",
       "      <th>RL</th>\n",
       "      <th>Term_in_RP</th>\n",
       "      <th>Term_in_RT</th>\n",
       "      <th>Term_in_RC</th>\n",
       "    </tr>\n",
       "  </thead>\n",
       "  <tbody>\n",
       "    <tr>\n",
       "      <th>0</th>\n",
       "      <td>Q6GZX4</td>\n",
       "      <td>Frog virus 3 (isolate Goorha) (FV-3)</td>\n",
       "      <td>[1]</td>\n",
       "      <td>NUCLEOTIDE SEQUENCE [LARGE SCALE GENOMIC DNA].</td>\n",
       "      <td>NaN</td>\n",
       "      <td>PubMed=15165820; DOI=10.1016/j.virol.2004.02.019;</td>\n",
       "      <td>NaN</td>\n",
       "      <td>Tan W.G., Barkman T.J., Gregory Chinchar V., E...</td>\n",
       "      <td>\"Comparative genomic analyses of frog virus 3,...</td>\n",
       "      <td>Virology 323:70-84(2004).</td>\n",
       "      <td></td>\n",
       "      <td></td>\n",
       "      <td></td>\n",
       "    </tr>\n",
       "    <tr>\n",
       "      <th>1</th>\n",
       "      <td>Q6GZX3</td>\n",
       "      <td>Frog virus 3 (isolate Goorha) (FV-3)</td>\n",
       "      <td>[1]</td>\n",
       "      <td>NUCLEOTIDE SEQUENCE [LARGE SCALE GENOMIC DNA].</td>\n",
       "      <td>NaN</td>\n",
       "      <td>PubMed=15165820; DOI=10.1016/j.virol.2004.02.019;</td>\n",
       "      <td>NaN</td>\n",
       "      <td>Tan W.G., Barkman T.J., Gregory Chinchar V., E...</td>\n",
       "      <td>\"Comparative genomic analyses of frog virus 3,...</td>\n",
       "      <td>Virology 323:70-84(2004).</td>\n",
       "      <td></td>\n",
       "      <td></td>\n",
       "      <td></td>\n",
       "    </tr>\n",
       "    <tr>\n",
       "      <th>2</th>\n",
       "      <td>Q197F8</td>\n",
       "      <td>Invertebrate iridescent virus 3 (IIV-3) (Mosqu...</td>\n",
       "      <td>[1]</td>\n",
       "      <td>NUCLEOTIDE SEQUENCE [LARGE SCALE GENOMIC DNA].</td>\n",
       "      <td>NaN</td>\n",
       "      <td>PubMed=16912294; DOI=10.1128/jvi.00464-06;</td>\n",
       "      <td>NaN</td>\n",
       "      <td>Delhon G., Tulman E.R., Afonso C.L., Lu Z., Be...</td>\n",
       "      <td>\"Genome of invertebrate iridescent virus type ...</td>\n",
       "      <td>J. Virol. 80:8439-8449(2006).</td>\n",
       "      <td></td>\n",
       "      <td></td>\n",
       "      <td></td>\n",
       "    </tr>\n",
       "    <tr>\n",
       "      <th>3</th>\n",
       "      <td>Q197F7</td>\n",
       "      <td>Invertebrate iridescent virus 3 (IIV-3) (Mosqu...</td>\n",
       "      <td>[1]</td>\n",
       "      <td>NUCLEOTIDE SEQUENCE [LARGE SCALE GENOMIC DNA].</td>\n",
       "      <td>NaN</td>\n",
       "      <td>PubMed=16912294; DOI=10.1128/jvi.00464-06;</td>\n",
       "      <td>NaN</td>\n",
       "      <td>Delhon G., Tulman E.R., Afonso C.L., Lu Z., Be...</td>\n",
       "      <td>\"Genome of invertebrate iridescent virus type ...</td>\n",
       "      <td>J. Virol. 80:8439-8449(2006).</td>\n",
       "      <td></td>\n",
       "      <td></td>\n",
       "      <td></td>\n",
       "    </tr>\n",
       "    <tr>\n",
       "      <th>4</th>\n",
       "      <td>Q6GZX2</td>\n",
       "      <td>Frog virus 3 (isolate Goorha) (FV-3)</td>\n",
       "      <td>[1]</td>\n",
       "      <td>NUCLEOTIDE SEQUENCE [LARGE SCALE GENOMIC DNA].</td>\n",
       "      <td>NaN</td>\n",
       "      <td>PubMed=15165820; DOI=10.1016/j.virol.2004.02.019;</td>\n",
       "      <td>NaN</td>\n",
       "      <td>Tan W.G., Barkman T.J., Gregory Chinchar V., E...</td>\n",
       "      <td>\"Comparative genomic analyses of frog virus 3,...</td>\n",
       "      <td>Virology 323:70-84(2004).</td>\n",
       "      <td></td>\n",
       "      <td></td>\n",
       "      <td></td>\n",
       "    </tr>\n",
       "  </tbody>\n",
       "</table>\n",
       "</div>"
      ],
      "text/plain": [
       "       AC                                                 OS   RN  \\\n",
       "0  Q6GZX4               Frog virus 3 (isolate Goorha) (FV-3)  [1]   \n",
       "1  Q6GZX3               Frog virus 3 (isolate Goorha) (FV-3)  [1]   \n",
       "2  Q197F8  Invertebrate iridescent virus 3 (IIV-3) (Mosqu...  [1]   \n",
       "3  Q197F7  Invertebrate iridescent virus 3 (IIV-3) (Mosqu...  [1]   \n",
       "4  Q6GZX2               Frog virus 3 (isolate Goorha) (FV-3)  [1]   \n",
       "\n",
       "                                               RP   RC  \\\n",
       "0  NUCLEOTIDE SEQUENCE [LARGE SCALE GENOMIC DNA].  NaN   \n",
       "1  NUCLEOTIDE SEQUENCE [LARGE SCALE GENOMIC DNA].  NaN   \n",
       "2  NUCLEOTIDE SEQUENCE [LARGE SCALE GENOMIC DNA].  NaN   \n",
       "3  NUCLEOTIDE SEQUENCE [LARGE SCALE GENOMIC DNA].  NaN   \n",
       "4  NUCLEOTIDE SEQUENCE [LARGE SCALE GENOMIC DNA].  NaN   \n",
       "\n",
       "                                                  RX   RG  \\\n",
       "0  PubMed=15165820; DOI=10.1016/j.virol.2004.02.019;  NaN   \n",
       "1  PubMed=15165820; DOI=10.1016/j.virol.2004.02.019;  NaN   \n",
       "2         PubMed=16912294; DOI=10.1128/jvi.00464-06;  NaN   \n",
       "3         PubMed=16912294; DOI=10.1128/jvi.00464-06;  NaN   \n",
       "4  PubMed=15165820; DOI=10.1016/j.virol.2004.02.019;  NaN   \n",
       "\n",
       "                                                  RA  \\\n",
       "0  Tan W.G., Barkman T.J., Gregory Chinchar V., E...   \n",
       "1  Tan W.G., Barkman T.J., Gregory Chinchar V., E...   \n",
       "2  Delhon G., Tulman E.R., Afonso C.L., Lu Z., Be...   \n",
       "3  Delhon G., Tulman E.R., Afonso C.L., Lu Z., Be...   \n",
       "4  Tan W.G., Barkman T.J., Gregory Chinchar V., E...   \n",
       "\n",
       "                                                  RT  \\\n",
       "0  \"Comparative genomic analyses of frog virus 3,...   \n",
       "1  \"Comparative genomic analyses of frog virus 3,...   \n",
       "2  \"Genome of invertebrate iridescent virus type ...   \n",
       "3  \"Genome of invertebrate iridescent virus type ...   \n",
       "4  \"Comparative genomic analyses of frog virus 3,...   \n",
       "\n",
       "                              RL Term_in_RP Term_in_RT Term_in_RC  \n",
       "0      Virology 323:70-84(2004).                                   \n",
       "1      Virology 323:70-84(2004).                                   \n",
       "2  J. Virol. 80:8439-8449(2006).                                   \n",
       "3  J. Virol. 80:8439-8449(2006).                                   \n",
       "4      Virology 323:70-84(2004).                                   "
      ]
     },
     "execution_count": 3,
     "metadata": {},
     "output_type": "execute_result"
    }
   ],
   "source": [
    "# Autoregulatory database loading\n",
    "autoreg = pyreadr.read_r('data/raw/autoregulatoryDB.rds')\n",
    "autoreg_df = list(autoreg.values())[0]\n",
    "autoreg_df.head()"
   ]
  },
  {
   "cell_type": "markdown",
   "id": "e745c0c1",
   "metadata": {},
   "source": [
    "## Initial EDA"
   ]
  },
  {
   "cell_type": "markdown",
   "id": "26f4dcd1",
   "metadata": {},
   "source": [
    "### PubMed"
   ]
  },
  {
   "cell_type": "code",
   "execution_count": 4,
   "id": "861e6a87",
   "metadata": {},
   "outputs": [
    {
     "name": "stdout",
     "output_type": "stream",
     "text": [
      "Shape: (262819, 5)\n",
      "Columns: ['PMID', 'Title', 'Abstract', 'Journal', 'Authors']\n"
     ]
    }
   ],
   "source": [
    "# Basic info\n",
    "print(f\"Shape: {pubmed_df.shape}\")\n",
    "print(f\"Columns: {pubmed_df.columns.tolist()}\")"
   ]
  },
  {
   "cell_type": "code",
   "execution_count": 5,
   "id": "b9e87105",
   "metadata": {},
   "outputs": [
    {
     "name": "stdout",
     "output_type": "stream",
     "text": [
      "PMID         int32\n",
      "Title       object\n",
      "Abstract    object\n",
      "Journal     object\n",
      "Authors     object\n",
      "dtype: object\n",
      "\n",
      "Missing values:\n",
      "PMID           0\n",
      "Title          0\n",
      "Abstract    8607\n",
      "Journal        0\n",
      "Authors        0\n",
      "dtype: int64\n"
     ]
    }
   ],
   "source": [
    "# Data types and missing values\n",
    "print(pubmed_df.dtypes)\n",
    "print(f\"\\nMissing values:\\n{pubmed_df.isnull().sum()}\")"
   ]
  },
  {
   "cell_type": "code",
   "execution_count": 6,
   "id": "addd88bb",
   "metadata": {},
   "outputs": [
    {
     "name": "stdout",
     "output_type": "stream",
     "text": [
      "Duplicate PMIDs: 0\n"
     ]
    }
   ],
   "source": [
    "# Check for duplicate PMIDs\n",
    "print(f\"Duplicate PMIDs: {pubmed_df.duplicated('PMID').sum()}\")"
   ]
  },
  {
   "cell_type": "markdown",
   "id": "c388c741",
   "metadata": {},
   "source": [
    "### Autoregulatory Database"
   ]
  },
  {
   "cell_type": "code",
   "execution_count": 7,
   "id": "97715b51",
   "metadata": {},
   "outputs": [
    {
     "name": "stdout",
     "output_type": "stream",
     "text": [
      "Shape: (1323976, 13)\n",
      "Columns: ['AC', 'OS', 'RN', 'RP', 'RC', 'RX', 'RG', 'RA', 'RT', 'RL', 'Term_in_RP', 'Term_in_RT', 'Term_in_RC']\n"
     ]
    }
   ],
   "source": [
    "# Basic info\n",
    "print(f\"Shape: {autoreg_df.shape}\")\n",
    "print(f\"Columns: {autoreg_df.columns.tolist()}\")"
   ]
  },
  {
   "cell_type": "code",
   "execution_count": 8,
   "id": "08d785a3",
   "metadata": {},
   "outputs": [
    {
     "name": "stdout",
     "output_type": "stream",
     "text": [
      "AC                  0\n",
      "OS                  0\n",
      "RN                  0\n",
      "RP                  0\n",
      "RC             511667\n",
      "RX             178720\n",
      "RG            1210925\n",
      "RA              68817\n",
      "RT              56058\n",
      "RL                  0\n",
      "Term_in_RP          0\n",
      "Term_in_RT          0\n",
      "Term_in_RC          0\n",
      "dtype: int64\n"
     ]
    }
   ],
   "source": [
    "# Missing values\n",
    "print(autoreg_df.isnull().sum())"
   ]
  },
  {
   "cell_type": "markdown",
   "id": "fea861bd",
   "metadata": {},
   "source": [
    "## Data Preparation"
   ]
  },
  {
   "cell_type": "code",
   "execution_count": 9,
   "id": "2726fead",
   "metadata": {},
   "outputs": [],
   "source": [
    "# Extract PMID from RX column\n",
    "autoreg_df['PMID'] = autoreg_df['RX'].str.extract(r'PubMed=(\\d+)', expand=False)\n",
    "autoreg_df['PMID'] = pd.to_numeric(autoreg_df['PMID'], errors='coerce')"
   ]
  },
  {
   "cell_type": "code",
   "execution_count": 10,
   "id": "6ec531ba",
   "metadata": {},
   "outputs": [
    {
     "name": "stdout",
     "output_type": "stream",
     "text": [
      "Duplicate PMIDs: 1144977\n"
     ]
    }
   ],
   "source": [
    "# Check for duplicates\n",
    "print(f\"Duplicate PMIDs: {autoreg_df.duplicated('PMID', keep=False).sum()}\")"
   ]
  },
  {
   "cell_type": "code",
   "execution_count": 11,
   "id": "5643efd2",
   "metadata": {},
   "outputs": [],
   "source": [
    "# Merge terms from three columns into one\n",
    "def merge_terms(row):\n",
    "    cols = ['Term_in_RP', 'Term_in_RT', 'Term_in_RC']\n",
    "    terms = []\n",
    "    for col in cols:\n",
    "        val = row[col]\n",
    "        if pd.notna(val):\n",
    "            terms.extend([t.strip() for t in str(val).split(',') if t.strip()])\n",
    "    return ', '.join(sorted(set(terms))) if terms else ''\n",
    "\n",
    "autoreg_df['Terms'] = autoreg_df.apply(merge_terms, axis=1)"
   ]
  },
  {
   "cell_type": "code",
   "execution_count": 12,
   "id": "d42df24e",
   "metadata": {},
   "outputs": [
    {
     "name": "stdout",
     "output_type": "stream",
     "text": [
      "Labeled: 1,823, Unlabeled: 1,322,153\n"
     ]
    }
   ],
   "source": [
    "# Check labeled vs unlabeled\n",
    "labeled = (autoreg_df['Terms'] != '').sum()\n",
    "print(f\"Labeled: {labeled:,}, Unlabeled: {len(autoreg_df) - labeled:,}\")"
   ]
  },
  {
   "cell_type": "code",
   "execution_count": 13,
   "id": "477235ae",
   "metadata": {},
   "outputs": [
    {
     "name": "stdout",
     "output_type": "stream",
     "text": [
      "Labeled rows with missing PMID: 10\n"
     ]
    }
   ],
   "source": [
    "# Check how many labeled rows have missing PMID\n",
    "missing_pmid_labeled = autoreg_df[(autoreg_df['PMID'].isna()) & (autoreg_df['Terms'] != '')].shape[0]\n",
    "print(f\"Labeled rows with missing PMID: {missing_pmid_labeled}\")"
   ]
  },
  {
   "cell_type": "code",
   "execution_count": 14,
   "id": "82c7f7be",
   "metadata": {},
   "outputs": [
    {
     "name": "stdout",
     "output_type": "stream",
     "text": [
      "After dropping: 1,142,197 rows\n"
     ]
    }
   ],
   "source": [
    "# Drop rows with missing PMID\n",
    "autoreg_df = autoreg_df.dropna(subset=['PMID'])\n",
    "print(f\"After dropping: {len(autoreg_df):,} rows\")"
   ]
  },
  {
   "cell_type": "code",
   "execution_count": 15,
   "id": "931d6880",
   "metadata": {},
   "outputs": [],
   "source": [
    "# Aggregate duplicates - combine all terms for the same PMID\n",
    "autoreg_aggregated = (\n",
    "    autoreg_df.groupby('PMID', as_index=False)\n",
    "    .agg({\n",
    "        'Terms': lambda x: ', '.join(sorted(set(\n",
    "            term.strip()\n",
    "            for terms_str in x\n",
    "            for term in str(terms_str).split(',')\n",
    "            if term.strip()\n",
    "        )))\n",
    "    })\n",
    ")\n",
    "\n",
    "autoreg_aggregated['has_mechanism'] = autoreg_aggregated['Terms'] != ''"
   ]
  },
  {
   "cell_type": "code",
   "execution_count": 16,
   "id": "bd32ba33",
   "metadata": {},
   "outputs": [
    {
     "name": "stdout",
     "output_type": "stream",
     "text": [
      "Before aggregation: 1,142,197 rows\n",
      "After aggregation: 268,619 unique PMIDs\n",
      "Labeled: 1,374\n"
     ]
    }
   ],
   "source": [
    "# Summary\n",
    "print(f\"Before aggregation: {len(autoreg_df):,} rows\")\n",
    "print(f\"After aggregation: {len(autoreg_aggregated):,} unique PMIDs\")\n",
    "print(f\"Labeled: {autoreg_aggregated['has_mechanism'].sum():,}\")"
   ]
  },
  {
   "cell_type": "markdown",
   "id": "3b738dae",
   "metadata": {},
   "source": [
    "## Merging Datasets"
   ]
  },
  {
   "cell_type": "code",
   "execution_count": 17,
   "id": "3a3674f1",
   "metadata": {},
   "outputs": [],
   "source": [
    "# Ensure same data type for merging\n",
    "pubmed_df['PMID'] = pubmed_df['PMID'].astype('int64')\n",
    "autoreg_aggregated['PMID'] = autoreg_aggregated['PMID'].astype('int64')"
   ]
  },
  {
   "cell_type": "code",
   "execution_count": 18,
   "id": "e6b60167",
   "metadata": {},
   "outputs": [],
   "source": [
    "# Left join - keep all PubMed papers, add labels where available\n",
    "merged_df = pubmed_df.merge(\n",
    "    autoreg_aggregated[['PMID', 'Terms', 'has_mechanism']],\n",
    "    on='PMID',\n",
    "    how='left'\n",
    ")\n",
    "\n",
    "# Fill missing values\n",
    "merged_df['Terms'] = merged_df['Terms'].fillna('')\n",
    "merged_df['has_mechanism'] = merged_df['has_mechanism'].fillna(False)"
   ]
  },
  {
   "cell_type": "code",
   "execution_count": 19,
   "id": "1beb2f90",
   "metadata": {},
   "outputs": [
    {
     "name": "stdout",
     "output_type": "stream",
     "text": [
      "Total papers: 262,819\n",
      "Labeled: 1,349\n",
      "Unlabeled: 261,470\n"
     ]
    }
   ],
   "source": [
    "# Merge summary\n",
    "print(f\"Total papers: {len(merged_df):,}\")\n",
    "print(f\"Labeled: {merged_df['has_mechanism'].sum():,}\")\n",
    "print(f\"Unlabeled: {(~merged_df['has_mechanism']).sum():,}\")"
   ]
  },
  {
   "cell_type": "code",
   "execution_count": 20,
   "id": "04082267",
   "metadata": {},
   "outputs": [
    {
     "name": "stdout",
     "output_type": "stream",
     "text": [
      "\n",
      "Label tracking:\n",
      "Original autoreg: 1,813\n",
      "After aggregation: 1,374\n",
      "After merge: 1,349\n",
      "Total lost: 464\n"
     ]
    }
   ],
   "source": [
    "# Track label loss\n",
    "labels_before = (autoreg_df['Terms'] != '').sum()\n",
    "labels_after_agg = autoreg_aggregated['has_mechanism'].sum()\n",
    "labels_after_merge = merged_df['has_mechanism'].sum()\n",
    "\n",
    "print(f\"\\nLabel tracking:\")\n",
    "print(f\"Original autoreg: {labels_before:,}\")\n",
    "print(f\"After aggregation: {labels_after_agg:,}\")\n",
    "print(f\"After merge: {labels_after_merge:,}\")\n",
    "print(f\"Total lost: {labels_before - labels_after_merge:,}\")"
   ]
  },
  {
   "cell_type": "code",
   "execution_count": 21,
   "id": "8c0728e3",
   "metadata": {},
   "outputs": [
    {
     "name": "stdout",
     "output_type": "stream",
     "text": [
      "\n",
      "Labeled papers not in PubMed: 25\n"
     ]
    }
   ],
   "source": [
    "# Check which labeled papers aren't in PubMed\n",
    "autoreg_labeled = set(autoreg_aggregated[autoreg_aggregated['has_mechanism']]['PMID'])\n",
    "pubmed_pmids = set(pubmed_df['PMID'])\n",
    "missing = autoreg_labeled - pubmed_pmids\n",
    "\n",
    "print(f\"\\nLabeled papers not in PubMed: {len(missing)}\")"
   ]
  },
  {
   "cell_type": "code",
   "execution_count": 22,
   "id": "ff69a424",
   "metadata": {},
   "outputs": [
    {
     "name": "stdout",
     "output_type": "stream",
     "text": [
      "Labeled papers missing abstracts: 2\n",
      "After dropping: 254,212 papers, 1,347 labeled\n"
     ]
    }
   ],
   "source": [
    "# Drop papers without abstracts\n",
    "labeled_missing_abstract = merged_df[merged_df['has_mechanism'] & merged_df['Abstract'].isna()]\n",
    "print(f\"Labeled papers missing abstracts: {len(labeled_missing_abstract)}\")\n",
    "\n",
    "merged_df = merged_df[merged_df['Abstract'].notna()]\n",
    "print(f\"After dropping: {len(merged_df):,} papers, {merged_df['has_mechanism'].sum():,} labeled\")"
   ]
  },
  {
   "cell_type": "markdown",
   "id": "e038867f",
   "metadata": {},
   "source": [
    "## Feature Engineering"
   ]
  },
  {
   "cell_type": "code",
   "execution_count": 23,
   "id": "a8433fae",
   "metadata": {},
   "outputs": [],
   "source": [
    "# Combine title and abstract into single text field\n",
    "merged_df['text'] = merged_df['Title'].fillna('') + '. ' + merged_df['Abstract'].fillna('')\n"
   ]
  },
  {
   "cell_type": "code",
   "execution_count": 24,
   "id": "e8ddae78",
   "metadata": {},
   "outputs": [],
   "source": [
    "def clean_text(text):\n",
    "    if pd.isna(text):\n",
    "        return \"\"\n",
    "    \n",
    "    text = str(text)\n",
    "    text = unescape(text)               # Fix HTML entities like &amp;\n",
    "    text = re.sub(r'http\\S+', '', text) # Remove URLs\n",
    "    text = re.sub(r'\\S+@\\S+', '', text) # Remove emails\n",
    "    text = re.sub(r'\\s+', ' ', text)    # Normalize whitespace\n",
    "    \n",
    "    return text.strip()\n",
    "\n",
    "merged_df['text'] = merged_df['text'].apply(clean_text)\n",
    "merged_df['text_length'] = merged_df['text'].str.len()"
   ]
  },
  {
   "cell_type": "code",
   "execution_count": 25,
   "id": "d6c19e53",
   "metadata": {},
   "outputs": [
    {
     "name": "stdout",
     "output_type": "stream",
     "text": [
      "\n",
      "Papers with <100 characters: 2\n",
      "Example:\n",
      "Filamin C Cardiomyopathy Variants Cause Protein and Lysosome Accumulation.. [Figure: see text].\n"
     ]
    }
   ],
   "source": [
    "# Check for very short texts (potential data quality issues)\n",
    "short_texts = merged_df[merged_df['text_length'] < 100]\n",
    "print(f\"\\nPapers with <100 characters: {len(short_texts)}\")\n",
    "if len(short_texts) > 0:\n",
    "    print(\"Example:\")\n",
    "    print(short_texts.iloc[0]['text'])"
   ]
  },
  {
   "cell_type": "code",
   "execution_count": 26,
   "id": "f78ca309",
   "metadata": {},
   "outputs": [
    {
     "name": "stdout",
     "output_type": "stream",
     "text": [
      "Short texts that are labeled: 0\n"
     ]
    }
   ],
   "source": [
    "# Check if the short ones are labeled\n",
    "short_labeled = short_texts[short_texts['has_mechanism']]\n",
    "print(f\"Short texts that are labeled: {len(short_labeled)}\")"
   ]
  },
  {
   "cell_type": "code",
   "execution_count": 27,
   "id": "2a72970e",
   "metadata": {},
   "outputs": [
    {
     "name": "stdout",
     "output_type": "stream",
     "text": [
      "Mean text length: 1348\n",
      "Median text length: 1351\n"
     ]
    }
   ],
   "source": [
    "\n",
    "# Text length statistics\n",
    "print(f\"Mean text length: {merged_df['text_length'].mean():.0f}\")\n",
    "print(f\"Median text length: {merged_df['text_length'].median():.0f}\")"
   ]
  },
  {
   "cell_type": "code",
   "execution_count": 28,
   "id": "beae81c8",
   "metadata": {},
   "outputs": [
    {
     "name": "stdout",
     "output_type": "stream",
     "text": [
      "\n",
      "Labeled - Mean: 1403, Median: 1402\n",
      "Unlabeled - Mean: 1348, Median: 1351\n"
     ]
    }
   ],
   "source": [
    "# Compare labeled vs unlabeled text lengths\n",
    "labeled_lengths = merged_df[merged_df['has_mechanism']]['text_length']\n",
    "unlabeled_lengths = merged_df[~merged_df['has_mechanism']]['text_length']\n",
    "\n",
    "print(f\"\\nLabeled - Mean: {labeled_lengths.mean():.0f}, Median: {labeled_lengths.median():.0f}\")\n",
    "print(f\"Unlabeled - Mean: {unlabeled_lengths.mean():.0f}, Median: {unlabeled_lengths.median():.0f}\")"
   ]
  },
  {
   "cell_type": "markdown",
   "id": "477dca9e",
   "metadata": {},
   "source": [
    "## Initial Term Analysis"
   ]
  },
  {
   "cell_type": "code",
   "execution_count": 29,
   "id": "6d7ba664",
   "metadata": {},
   "outputs": [],
   "source": [
    "# Extract all terms from labeled papers\n",
    "all_terms = []\n",
    "for terms_str in merged_df[merged_df['has_mechanism']]['Terms']:\n",
    "    if pd.notna(terms_str) and terms_str != '':\n",
    "        all_terms.extend([t.strip() for t in terms_str.split(',')])\n",
    "\n",
    "term_counts = pd.Series(all_terms).value_counts()"
   ]
  },
  {
   "cell_type": "code",
   "execution_count": 30,
   "id": "766f52e6",
   "metadata": {},
   "outputs": [
    {
     "name": "stdout",
     "output_type": "stream",
     "text": [
      "Term distribution:\n",
      "autophosphorylation    719\n",
      "autocatalytic          133\n",
      "autoubiquitination     121\n",
      "autoregulation         119\n",
      "autoinhibition          84\n",
      "autoregulatory          44\n",
      "autoinhibitory          43\n",
      "autolysis               41\n",
      "autoinducer             31\n",
      "autoactivation          17\n",
      "autocatalysis           14\n",
      "autoinduction            7\n",
      "autokinase               5\n",
      "autofeedback             2\n",
      "autophosphatase          1\n",
      "Name: count, dtype: int64\n",
      "\n",
      "Total unique terms: 15\n",
      "Imbalance: 719:1 ratio\n"
     ]
    }
   ],
   "source": [
    "# Distribution\n",
    "print(\"Term distribution:\")\n",
    "print(term_counts)\n",
    "print(f\"\\nTotal unique terms: {len(term_counts)}\")\n",
    "print(f\"Imbalance: {term_counts.max()}:{term_counts.min()} ratio\")"
   ]
  },
  {
   "cell_type": "code",
   "execution_count": 31,
   "id": "590ee401",
   "metadata": {},
   "outputs": [
    {
     "data": {
      "image/png": "[encoded data removed]",
      "text/plain": [
       "<Figure size 1200x600 with 1 Axes>"
      ]
     },
     "metadata": {},
     "output_type": "display_data"
    }
   ],
   "source": [
    "# Visualize\n",
    "plt.figure(figsize=(12, 6))\n",
    "term_counts.plot(kind='bar', color='steelblue', edgecolor='black')\n",
    "plt.xlabel('Term')\n",
    "plt.ylabel('Count')\n",
    "plt.title('Initial Term Distribution')\n",
    "plt.xticks(rotation=45, ha='right')\n",
    "plt.tight_layout()\n",
    "plt.show()"
   ]
  },
  {
   "cell_type": "markdown",
   "id": "cab64baa",
   "metadata": {},
   "source": [
    "## Data Filtering & Normalization"
   ]
  },
  {
   "cell_type": "code",
   "execution_count": 32,
   "id": "331e3657",
   "metadata": {},
   "outputs": [],
   "source": [
    "# Normalize spelling variations to common forms\n",
    "def normalize_terms(terms):\n",
    "    if pd.isna(terms) or terms == '':\n",
    "        return terms\n",
    "    \n",
    "    normalization_rules = {\n",
    "        'autoregulatory': 'autoregulation',\n",
    "        'autoinhibitory': 'autoinhibition',\n",
    "        'autocatalysis': 'autocatalytic',\n",
    "        'autoinduction': 'autoinducer',\n",
    "        'autokinase': 'autophosphorylation',\n",
    "        'autophosphatase': 'autophosphorylation',\n",
    "    }\n",
    "    \n",
    "    normalized = []\n",
    "    for term in terms.split(','):\n",
    "        term = term.strip().lower()\n",
    "        normalized.append(normalization_rules.get(term, term))\n",
    "    \n",
    "    return ', '.join(sorted(set(normalized)))\n",
    "\n",
    "merged_df['Terms_normalized'] = merged_df['Terms'].apply(normalize_terms)\n",
    "merged_df['has_mechanism_norm'] = (merged_df['Terms_normalized'] != '')"
   ]
  },
  {
   "cell_type": "code",
   "execution_count": 33,
   "id": "dbef4d4b",
   "metadata": {},
   "outputs": [
    {
     "name": "stdout",
     "output_type": "stream",
     "text": [
      "After normalization:\n",
      "autophosphorylation    721\n",
      "autoregulation         163\n",
      "autocatalytic          147\n",
      "autoinhibition         122\n",
      "autoubiquitination     121\n",
      "autolysis               41\n",
      "autoinducer             38\n",
      "autoactivation          17\n",
      "autofeedback             2\n",
      "Name: count, dtype: int64\n"
     ]
    }
   ],
   "source": [
    "# Count normalized terms\n",
    "all_norm_terms = []\n",
    "for terms_str in merged_df[merged_df['has_mechanism_norm']]['Terms_normalized']:\n",
    "    if pd.notna(terms_str) and terms_str != '':\n",
    "        all_norm_terms.extend([t.strip() for t in terms_str.split(',')])\n",
    "\n",
    "norm_counts = pd.Series(all_norm_terms).value_counts()\n",
    "print(\"After normalization:\")\n",
    "print(norm_counts)"
   ]
  },
  {
   "cell_type": "code",
   "execution_count": 34,
   "id": "0a634b00",
   "metadata": {},
   "outputs": [
    {
     "name": "stdout",
     "output_type": "stream",
     "text": [
      "\n",
      "Keeping 7 terms with >=35 examples:\n",
      "autophosphorylation    721\n",
      "autoregulation         163\n",
      "autocatalytic          147\n",
      "autoinhibition         122\n",
      "autoubiquitination     121\n",
      "autolysis               41\n",
      "autoinducer             38\n",
      "Name: count, dtype: int64\n"
     ]
    }
   ],
   "source": [
    "# Keep only terms with enough examples\n",
    "MIN_EXAMPLES = 35\n",
    "keep_terms = norm_counts[norm_counts >= MIN_EXAMPLES].index.tolist()\n",
    "\n",
    "print(f\"\\nKeeping {len(keep_terms)} terms with >={MIN_EXAMPLES} examples:\")\n",
    "print(norm_counts[norm_counts >= MIN_EXAMPLES])"
   ]
  },
  {
   "cell_type": "code",
   "execution_count": 35,
   "id": "0adef8fa",
   "metadata": {},
   "outputs": [],
   "source": [
    "# Filter to kept terms only\n",
    "def filter_to_kept_terms(terms_str):\n",
    "    if pd.isna(terms_str) or terms_str == '':\n",
    "        return ''\n",
    "    terms = [t.strip() for t in terms_str.split(',')]\n",
    "    kept = [t for t in terms if t in keep_terms]\n",
    "    return ', '.join(sorted(set(kept)))\n",
    "\n",
    "merged_df['Terms_final'] = merged_df['Terms_normalized'].apply(filter_to_kept_terms)\n",
    "merged_df['has_mechanism_final'] = (merged_df['Terms_final'] != '')"
   ]
  },
  {
   "cell_type": "code",
   "execution_count": 36,
   "id": "0174f689",
   "metadata": {},
   "outputs": [
    {
     "name": "stdout",
     "output_type": "stream",
     "text": [
      "\n",
      "Final dataset: 254,199 papers (1,334 labeled)\n"
     ]
    }
   ],
   "source": [
    "# Remove papers that only had rare terms\n",
    "df_final = merged_df[\n",
    "    (~merged_df['has_mechanism_norm']) |\n",
    "    (merged_df['has_mechanism_final'])\n",
    "].copy()\n",
    "\n",
    "print(f\"\\nFinal dataset: {len(df_final):,} papers ({df_final['has_mechanism_final'].sum():,} labeled)\")"
   ]
  },
  {
   "cell_type": "markdown",
   "id": "47fda575",
   "metadata": {},
   "source": [
    "## Term Analysis (Final)"
   ]
  },
  {
   "cell_type": "code",
   "execution_count": 37,
   "id": "fd61e482",
   "metadata": {},
   "outputs": [],
   "source": [
    "# Count final terms after filtering\n",
    "all_final_terms = []\n",
    "for terms_str in df_final[df_final['has_mechanism_final']]['Terms_final']:\n",
    "    if pd.notna(terms_str) and terms_str != '':\n",
    "        all_final_terms.extend([t.strip() for t in terms_str.split(',')])\n",
    "\n",
    "final_counts = pd.Series(all_final_terms).value_counts()"
   ]
  },
  {
   "cell_type": "code",
   "execution_count": 38,
   "id": "bf99867f",
   "metadata": {},
   "outputs": [
    {
     "name": "stdout",
     "output_type": "stream",
     "text": [
      "Final term distribution:\n",
      "autophosphorylation    721\n",
      "autoregulation         163\n",
      "autocatalytic          147\n",
      "autoinhibition         122\n",
      "autoubiquitination     121\n",
      "autolysis               41\n",
      "autoinducer             38\n",
      "Name: count, dtype: int64\n",
      "\n",
      "Kept 7 terms, imbalance 721:38 ratio\n"
     ]
    }
   ],
   "source": [
    "# Distribution\n",
    "print(\"Final term distribution:\")\n",
    "print(final_counts)\n",
    "print(f\"\\nKept {len(final_counts)} terms, imbalance {final_counts.max()}:{final_counts.min()} ratio\")"
   ]
  },
  {
   "cell_type": "code",
   "execution_count": 39,
   "id": "ff436ac1",
   "metadata": {},
   "outputs": [
    {
     "data": {
      "image/png": "[encoded data removed]",
      "text/plain": [
       "<Figure size 1200x600 with 1 Axes>"
      ]
     },
     "metadata": {},
     "output_type": "display_data"
    }
   ],
   "source": [
    "# Visualize\n",
    "plt.figure(figsize=(12, 6))\n",
    "final_counts.plot(kind='bar', color='steelblue', edgecolor='black')\n",
    "plt.xlabel('Term')\n",
    "plt.ylabel('Count')\n",
    "plt.title('Final Term Distribution')\n",
    "plt.xticks(rotation=45, ha='right')\n",
    "plt.axhline(y=MIN_EXAMPLES, color='red', linestyle='--', label=f'Min threshold ({MIN_EXAMPLES})')\n",
    "plt.legend()\n",
    "plt.tight_layout()\n",
    "plt.show()"
   ]
  },
  {
   "cell_type": "code",
   "execution_count": 40,
   "id": "12146407",
   "metadata": {},
   "outputs": [
    {
     "name": "stdout",
     "output_type": "stream",
     "text": [
      "\n",
      "Keyword presence analysis:\n",
      "autophosphorylation  341/721 ( 47.3%)\n",
      "autoregulation       110/163 ( 67.5%)\n",
      "autocatalytic         59/147 ( 40.1%)\n",
      "autoinhibition        87/122 ( 71.3%)\n",
      "autoubiquitination    17/121 ( 14.0%)\n",
      "autolysis             40/ 41 ( 97.6%)\n",
      "autoinducer           34/ 38 ( 89.5%)\n"
     ]
    }
   ],
   "source": [
    "# Check if terms appear literally in text\n",
    "print(\"\\nKeyword presence analysis:\")\n",
    "for term in final_counts.index:\n",
    "    papers_with_term = df_final[df_final['Terms_final'].str.contains(term, case=False, na=False, regex=False)]\n",
    "    contains_literal = papers_with_term['text'].str.lower().str.contains(term.lower(), na=False, regex=False).sum()\n",
    "    percentage = (contains_literal / len(papers_with_term)) * 100\n",
    "    print(f\"{term:20} {contains_literal:3}/{len(papers_with_term):3} ({percentage:5.1f}%)\")"
   ]
  },
  {
   "cell_type": "code",
   "execution_count": 41,
   "id": "17ff1e91",
   "metadata": {},
   "outputs": [
    {
     "name": "stdout",
     "output_type": "stream",
     "text": [
      "\n",
      "Autoubiquitination papers without literal term: 104\n",
      "\n",
      "Example 1 - PMID 18382127:\n",
      "Title: CARPs enhance p53 turnover by degrading 14-3-3sigma and stabilizing MDM2....\n",
      "Abstract: CARP1 and CARP2 proteins (CARPs) are E3 ligases that target p53 as well as phospho-p53 for degradation. Because MDM2 is a critical regulator of p53 turnover, we investigated and found that CARPs assoc...\n",
      "\n",
      "Example 2 - PMID 15998807:\n",
      "Title: The AIP2 E3 ligase acts as a novel negative regulator of ABA signaling by promoting ABI3 degradation...\n",
      "Abstract: The phytohormone abscisic acid (ABA) mediates many complex aspects of plant development including seed maturation, dormancy, and germination as well as root growth. The B3-domain transcription factor ...\n",
      "\n",
      "Example 3 - PMID 22508726:\n",
      "Title: The ubiquitin ligase mLin41 temporally promotes neural progenitor cell maintenance through FGF signa...\n",
      "Abstract: How self-renewal versus differentiation of neural progenitor cells is temporally controlled during early development remains ill-defined. We show that mouse Lin41 (mLin41) is highly expressed in neura...\n",
      "\n"
     ]
    }
   ],
   "source": [
    "# Show examples where term doesn't appear literally (hardest case)\n",
    "autoub_papers = df_final[df_final['Terms_final'].str.contains('autoubiquitination', case=False, na=False, regex=False)]\n",
    "autoub_without_keyword = autoub_papers[~autoub_papers['text'].str.lower().str.contains('autoubiquitination', na=False, regex=False)]\n",
    "\n",
    "print(f\"\\nAutoubiquitination papers without literal term: {len(autoub_without_keyword)}\\n\")\n",
    "\n",
    "for i, (idx, row) in enumerate(autoub_without_keyword.head(3).iterrows()):\n",
    "    print(f\"Example {i+1} - PMID {row['PMID']}:\")\n",
    "    print(f\"Title: {row['Title'][:100]}...\")\n",
    "    print(f\"Abstract: {str(row['Abstract'])[:200]}...\\n\")"
   ]
  },
  {
   "cell_type": "code",
   "execution_count": 42,
   "id": "7f9e8ce4",
   "metadata": {},
   "outputs": [
    {
     "name": "stdout",
     "output_type": "stream",
     "text": [
      "\n",
      "Papers with multiple mechanisms: 18\n",
      "Max terms in one paper: 3\n"
     ]
    }
   ],
   "source": [
    "# Check for papers with multiple mechanisms\n",
    "multi_term_papers = df_final[df_final['Terms_final'].str.contains(',', na=False)]\n",
    "print(f\"\\nPapers with multiple mechanisms: {len(multi_term_papers)}\")\n",
    "\n",
    "# Show distribution of how many terms per paper\n",
    "if len(multi_term_papers) > 0:\n",
    "    term_counts_per_paper = multi_term_papers['Terms_final'].str.split(',').str.len()\n",
    "    print(f\"Max terms in one paper: {term_counts_per_paper.max()}\")"
   ]
  },
  {
   "cell_type": "markdown",
   "id": "c39a0564",
   "metadata": {},
   "source": [
    "## Export"
   ]
  },
  {
   "cell_type": "code",
   "execution_count": 43,
   "id": "9ebf9f5f",
   "metadata": {},
   "outputs": [],
   "source": [
    "# Keep only columns needed for modeling\n",
    "df_clean = df_final[['PMID', 'text', 'Terms_final', 'has_mechanism_final']].copy()"
   ]
  },
  {
   "cell_type": "code",
   "execution_count": 44,
   "id": "5fb27021",
   "metadata": {},
   "outputs": [],
   "source": [
    "# Rename to clean column names\n",
    "df_modeling = df_clean.rename(columns={\n",
    "    'Terms_final': 'Terms',\n",
    "    'has_mechanism_final': 'has_mechanism'\n",
    "})"
   ]
  },
  {
   "cell_type": "code",
   "execution_count": 45,
   "id": "8bd46a20",
   "metadata": {},
   "outputs": [
    {
     "name": "stdout",
     "output_type": "stream",
     "text": [
      "FINAL DATASET: 254,199 papers, 1,334 labeled\n",
      "\n",
      "Term distribution:\n",
      "autophosphorylation    721\n",
      "autoregulation         163\n",
      "autocatalytic          147\n",
      "autoinhibition         122\n",
      "autoubiquitination     121\n",
      "autolysis               41\n",
      "autoinducer             38\n",
      "Name: count, dtype: int64\n"
     ]
    }
   ],
   "source": [
    "# Final summary\n",
    "print(f\"FINAL DATASET: {len(df_modeling):,} papers, {df_modeling['has_mechanism'].sum():,} labeled\")\n",
    "\n",
    "# Verify term distribution\n",
    "all_final_terms = []\n",
    "for terms_str in df_modeling[df_modeling['has_mechanism']]['Terms']:\n",
    "    if pd.notna(terms_str) and terms_str != '':\n",
    "        all_final_terms.extend([t.strip() for t in terms_str.split(',')])\n",
    "\n",
    "print(\"\\nTerm distribution:\")\n",
    "print(pd.Series(all_final_terms).value_counts())"
   ]
  },
  {
   "cell_type": "code",
   "execution_count": 46,
   "id": "495215a3",
   "metadata": {},
   "outputs": [
    {
     "name": "stdout",
     "output_type": "stream",
     "text": [
      "Random labeled paper examples:\n",
      "\n",
      "Example 1:\n",
      "PMID: 15101978\n",
      "Terms: autophosphorylation\n",
      "Text: Staphylococcal NreB: an O(2)-sensing histidine protein kinase with an O(2)-labile iron-sulphur cluster of the FNR type.. The nreABC (nitrogen regulation) operon encodes a new staphylococcal two-compon...\n",
      "\n",
      "Example 2:\n",
      "PMID: 18664614\n",
      "Terms: autoubiquitination\n",
      "Text: Arabidopsis PUB22 and PUB23 are homologous U-Box E3 ubiquitin ligases that play combinatory roles in response to drought stress.. Ubiquitination is involved in diverse cellular processes in higher pla...\n",
      "\n",
      "Example 3:\n",
      "PMID: 15044604\n",
      "Terms: autophosphorylation\n",
      "Text: Expression analysis of the human testis-specific serine/threonine kinase (TSSK) homologues. A TSSK member is present in the equatorial segment of human sperm.. Two members of the human testis-specific...\n",
      "\n"
     ]
    }
   ],
   "source": [
    "# Sample random labeled papers to verify quality\n",
    "print(\"Random labeled paper examples:\\n\")\n",
    "samples = df_final[df_final['has_mechanism_final']].sample(3, random_state=42)\n",
    "\n",
    "for i, (idx, row) in enumerate(samples.iterrows(), 1):\n",
    "    print(f\"Example {i}:\")\n",
    "    print(f\"PMID: {row['PMID']}\")\n",
    "    print(f\"Terms: {row['Terms_final']}\")\n",
    "    print(f\"Text: {row['text'][:200]}...\")\n",
    "    print()"
   ]
  },
  {
   "cell_type": "code",
   "execution_count": 48,
   "id": "3b5be7e6",
   "metadata": {},
   "outputs": [
    {
     "name": "stdout",
     "output_type": "stream",
     "text": [
      "\n",
      "Saved to data/processed/modeling_dataset.csv\n"
     ]
    }
   ],
   "source": [
    "# Save to CSV\n",
    "df_modeling.to_csv('data/processed/modeling_dataset.csv', index=False)\n",
    "print(\"\\nSaved to data/processed/modeling_dataset.csv\")"
   ]
  }
 ],
 "metadata": {
  "kernelspec": {
   "display_name": "autoregulatory",
   "language": "python",
   "name": "python3"
  },
  "language_info": {
   "codemirror_mode": {
    "name": "ipython",
    "version": 3
   },
   "file_extension": ".py",
   "mimetype": "text/x-python",
   "name": "python",
   "nbconvert_exporter": "python",
   "pygments_lexer": "ipython3",
   "version": "3.11.14"
  }
 },
 "nbformat": 4,
 "nbformat_minor": 5
}
