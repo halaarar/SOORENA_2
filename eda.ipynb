{
 "cells": [
  {
   "cell_type": "markdown",
   "id": "88446997",
   "metadata": {},
   "source": [
    "# EDA"
   ]
  },
  {
   "cell_type": "markdown",
   "id": "c65672ed",
   "metadata": {},
   "source": [
    "## Pubmed Dataset "
   ]
  },
  {
   "cell_type": "code",
   "execution_count": 29,
   "id": "91a11db7",
   "metadata": {},
   "outputs": [],
   "source": [
    "import pyreadr\n",
    "import pandas as pd\n",
    "import numpy as np\n",
    "import matplotlib.pyplot as plt"
   ]
  },
  {
   "cell_type": "code",
   "execution_count": 30,
   "id": "da739ea3",
   "metadata": {},
   "outputs": [
    {
     "data": {
      "text/html": [
       "<div>\n",
       "<style scoped>\n",
       "    .dataframe tbody tr th:only-of-type {\n",
       "        vertical-align: middle;\n",
       "    }\n",
       "\n",
       "    .dataframe tbody tr th {\n",
       "        vertical-align: top;\n",
       "    }\n",
       "\n",
       "    .dataframe thead th {\n",
       "        text-align: right;\n",
       "    }\n",
       "</style>\n",
       "<table border=\"1\" class=\"dataframe\">\n",
       "  <thead>\n",
       "    <tr style=\"text-align: right;\">\n",
       "      <th></th>\n",
       "      <th>PMID</th>\n",
       "      <th>Title</th>\n",
       "      <th>Abstract</th>\n",
       "      <th>Journal</th>\n",
       "      <th>Authors</th>\n",
       "    </tr>\n",
       "  </thead>\n",
       "  <tbody>\n",
       "    <tr>\n",
       "      <th>0</th>\n",
       "      <td>15165820</td>\n",
       "      <td>Comparative genomic analyses of frog virus 3, ...</td>\n",
       "      <td>Frog virus 3 (FV3) is the type species member ...</td>\n",
       "      <td>Virology</td>\n",
       "      <td>Wendy G H Tan, Todd J Barkman, V Gregory Chinc...</td>\n",
       "    </tr>\n",
       "    <tr>\n",
       "      <th>1</th>\n",
       "      <td>16912294</td>\n",
       "      <td>Genome of invertebrate iridescent virus type 3...</td>\n",
       "      <td>Iridoviruses (IVs) are classified into five ge...</td>\n",
       "      <td>Journal of virology</td>\n",
       "      <td>Gustavo Delhon, Edan R Tulman, Claudio L Afons...</td>\n",
       "    </tr>\n",
       "    <tr>\n",
       "      <th>2</th>\n",
       "      <td>11448171</td>\n",
       "      <td>Analysis of the first complete DNA sequence of...</td>\n",
       "      <td>Chilo iridescent virus (CIV), the type species...</td>\n",
       "      <td>Virology</td>\n",
       "      <td>N J Jakob, K Müller, U Bahr, G Darai</td>\n",
       "    </tr>\n",
       "    <tr>\n",
       "      <th>3</th>\n",
       "      <td>17239238</td>\n",
       "      <td>Comparative genomic analysis of the family Iri...</td>\n",
       "      <td>Members of the family Iridoviridae can cause s...</td>\n",
       "      <td>Virology journal</td>\n",
       "      <td>Heather E Eaton, Julie Metcalf, Emily Penny, V...</td>\n",
       "    </tr>\n",
       "    <tr>\n",
       "      <th>4</th>\n",
       "      <td>20633916</td>\n",
       "      <td>Frog virus 3 ORF 53R, a putative myristoylated...</td>\n",
       "      <td>Although previous work identified 12 complemen...</td>\n",
       "      <td>Virology</td>\n",
       "      <td>Dexter S Whitley, Kwang Yu, Robert C Sample, A...</td>\n",
       "    </tr>\n",
       "  </tbody>\n",
       "</table>\n",
       "</div>"
      ],
      "text/plain": [
       "       PMID                                              Title  \\\n",
       "0  15165820  Comparative genomic analyses of frog virus 3, ...   \n",
       "1  16912294  Genome of invertebrate iridescent virus type 3...   \n",
       "2  11448171  Analysis of the first complete DNA sequence of...   \n",
       "3  17239238  Comparative genomic analysis of the family Iri...   \n",
       "4  20633916  Frog virus 3 ORF 53R, a putative myristoylated...   \n",
       "\n",
       "                                            Abstract              Journal  \\\n",
       "0  Frog virus 3 (FV3) is the type species member ...             Virology   \n",
       "1  Iridoviruses (IVs) are classified into five ge...  Journal of virology   \n",
       "2  Chilo iridescent virus (CIV), the type species...             Virology   \n",
       "3  Members of the family Iridoviridae can cause s...     Virology journal   \n",
       "4  Although previous work identified 12 complemen...             Virology   \n",
       "\n",
       "                                             Authors  \n",
       "0  Wendy G H Tan, Todd J Barkman, V Gregory Chinc...  \n",
       "1  Gustavo Delhon, Edan R Tulman, Claudio L Afons...  \n",
       "2               N J Jakob, K Müller, U Bahr, G Darai  \n",
       "3  Heather E Eaton, Julie Metcalf, Emily Penny, V...  \n",
       "4  Dexter S Whitley, Kwang Yu, Robert C Sample, A...  "
      ]
     },
     "execution_count": 30,
     "metadata": {},
     "output_type": "execute_result"
    }
   ],
   "source": [
    "pubmed = pyreadr.read_r('data/raw/pubmed.rds')\n",
    "pubmed_df = list(pubmed.values())[0]\n",
    "pubmed_df.head()"
   ]
  },
  {
   "cell_type": "code",
   "execution_count": 31,
   "id": "861e6a87",
   "metadata": {},
   "outputs": [
    {
     "data": {
      "text/plain": [
       "(262819, 5)"
      ]
     },
     "execution_count": 31,
     "metadata": {},
     "output_type": "execute_result"
    }
   ],
   "source": [
    "# Find the shape of the dataframe\n",
    "pubmed_df.shape"
   ]
  },
  {
   "cell_type": "code",
   "execution_count": 32,
   "id": "b9e87105",
   "metadata": {},
   "outputs": [
    {
     "data": {
      "text/plain": [
       "['PMID', 'Title', 'Abstract', 'Journal', 'Authors']"
      ]
     },
     "execution_count": 32,
     "metadata": {},
     "output_type": "execute_result"
    }
   ],
   "source": [
    "# Find the column names of the dataframe\n",
    "pubmed_df.columns.tolist()"
   ]
  },
  {
   "cell_type": "code",
   "execution_count": 33,
   "id": "e96a5eb2",
   "metadata": {},
   "outputs": [
    {
     "data": {
      "text/plain": [
       "PMID         int32\n",
       "Title       object\n",
       "Abstract    object\n",
       "Journal     object\n",
       "Authors     object\n",
       "dtype: object"
      ]
     },
     "execution_count": 33,
     "metadata": {},
     "output_type": "execute_result"
    }
   ],
   "source": [
    "pubmed_df.dtypes"
   ]
  },
  {
   "cell_type": "code",
   "execution_count": 34,
   "id": "addd88bb",
   "metadata": {},
   "outputs": [
    {
     "data": {
      "text/plain": [
       "PMID           0\n",
       "Title          0\n",
       "Abstract    8607\n",
       "Journal        0\n",
       "Authors        0\n",
       "dtype: int64"
      ]
     },
     "execution_count": 34,
     "metadata": {},
     "output_type": "execute_result"
    }
   ],
   "source": [
    "# Find Missing Values\n",
    "pubmed_df.isnull().sum()"
   ]
  },
  {
   "cell_type": "code",
   "execution_count": 35,
   "id": "a85cb1ac",
   "metadata": {},
   "outputs": [],
   "source": [
    "p = pubmed_df.copy()"
   ]
  },
  {
   "cell_type": "code",
   "execution_count": 36,
   "id": "06df0dd5",
   "metadata": {},
   "outputs": [
    {
     "data": {
      "text/plain": [
       "(0, 5)"
      ]
     },
     "execution_count": 36,
     "metadata": {},
     "output_type": "execute_result"
    }
   ],
   "source": [
    "dup2 = p[p.duplicated('PMID', keep=False)].sort_values('PMID')\n",
    "dup2.shape"
   ]
  },
  {
   "cell_type": "code",
   "execution_count": 37,
   "id": "d74d441c",
   "metadata": {},
   "outputs": [],
   "source": [
    "p['Text_Combined'] = p['Title'].fillna('') + '. ' + p['Abstract'].fillna('') "
   ]
  },
  {
   "cell_type": "code",
   "execution_count": 38,
   "id": "d483a38a",
   "metadata": {},
   "outputs": [
    {
     "data": {
      "text/plain": [
       "count    262819.000000\n",
       "mean       1307.105837\n",
       "std         480.162787\n",
       "min          10.000000\n",
       "25%        1033.000000\n",
       "50%        1332.000000\n",
       "75%        1623.000000\n",
       "max        4911.000000\n",
       "Name: text_length, dtype: float64"
      ]
     },
     "execution_count": 38,
     "metadata": {},
     "output_type": "execute_result"
    }
   ],
   "source": [
    "p['text_length'] = p['Text_Combined'].str.len()\n",
    "p['title_length'] = p['Title'].fillna('').str.len()\n",
    "p['abstract_length'] = p['Abstract'].fillna('').str.len()\n",
    "# Get summary statistics\n",
    "p['text_length'].describe()"
   ]
  },
  {
   "cell_type": "code",
   "execution_count": 39,
   "id": "635fdf79",
   "metadata": {},
   "outputs": [
    {
     "data": {
      "image/png": "[encoded data removed]",
      "text/plain": [
       "<Figure size 1000x500 with 1 Axes>"
      ]
     },
     "metadata": {},
     "output_type": "display_data"
    }
   ],
   "source": [
    "# Visualize the distribution\n",
    "plt.figure(figsize=(10, 5))\n",
    "plt.hist(p['text_length'], bins=50, edgecolor='black')\n",
    "plt.xlabel('Text Length (characters)')\n",
    "plt.ylabel('Number of Papers')\n",
    "plt.title('Distribution of Text Lengths')\n",
    "plt.axvline(p['text_length'].median(), color='red', \n",
    "            linestyle='--', label=f\"Median: {p['text_length'].median():.0f}\")\n",
    "plt.legend()\n",
    "plt.show()"
   ]
  },
  {
   "cell_type": "markdown",
   "id": "57034087",
   "metadata": {},
   "source": [
    "## Autoregulatory "
   ]
  },
  {
   "cell_type": "code",
   "execution_count": 40,
   "id": "64d46562",
   "metadata": {},
   "outputs": [
    {
     "data": {
      "text/html": [
       "<div>\n",
       "<style scoped>\n",
       "    .dataframe tbody tr th:only-of-type {\n",
       "        vertical-align: middle;\n",
       "    }\n",
       "\n",
       "    .dataframe tbody tr th {\n",
       "        vertical-align: top;\n",
       "    }\n",
       "\n",
       "    .dataframe thead th {\n",
       "        text-align: right;\n",
       "    }\n",
       "</style>\n",
       "<table border=\"1\" class=\"dataframe\">\n",
       "  <thead>\n",
       "    <tr style=\"text-align: right;\">\n",
       "      <th></th>\n",
       "      <th>AC</th>\n",
       "      <th>OS</th>\n",
       "      <th>RN</th>\n",
       "      <th>RP</th>\n",
       "      <th>RC</th>\n",
       "      <th>RX</th>\n",
       "      <th>RG</th>\n",
       "      <th>RA</th>\n",
       "      <th>RT</th>\n",
       "      <th>RL</th>\n",
       "      <th>Term_in_RP</th>\n",
       "      <th>Term_in_RT</th>\n",
       "      <th>Term_in_RC</th>\n",
       "    </tr>\n",
       "  </thead>\n",
       "  <tbody>\n",
       "    <tr>\n",
       "      <th>0</th>\n",
       "      <td>Q6GZX4</td>\n",
       "      <td>Frog virus 3 (isolate Goorha) (FV-3)</td>\n",
       "      <td>[1]</td>\n",
       "      <td>NUCLEOTIDE SEQUENCE [LARGE SCALE GENOMIC DNA].</td>\n",
       "      <td>NaN</td>\n",
       "      <td>PubMed=15165820; DOI=10.1016/j.virol.2004.02.019;</td>\n",
       "      <td>NaN</td>\n",
       "      <td>Tan W.G., Barkman T.J., Gregory Chinchar V., E...</td>\n",
       "      <td>\"Comparative genomic analyses of frog virus 3,...</td>\n",
       "      <td>Virology 323:70-84(2004).</td>\n",
       "      <td></td>\n",
       "      <td></td>\n",
       "      <td></td>\n",
       "    </tr>\n",
       "    <tr>\n",
       "      <th>1</th>\n",
       "      <td>Q6GZX3</td>\n",
       "      <td>Frog virus 3 (isolate Goorha) (FV-3)</td>\n",
       "      <td>[1]</td>\n",
       "      <td>NUCLEOTIDE SEQUENCE [LARGE SCALE GENOMIC DNA].</td>\n",
       "      <td>NaN</td>\n",
       "      <td>PubMed=15165820; DOI=10.1016/j.virol.2004.02.019;</td>\n",
       "      <td>NaN</td>\n",
       "      <td>Tan W.G., Barkman T.J., Gregory Chinchar V., E...</td>\n",
       "      <td>\"Comparative genomic analyses of frog virus 3,...</td>\n",
       "      <td>Virology 323:70-84(2004).</td>\n",
       "      <td></td>\n",
       "      <td></td>\n",
       "      <td></td>\n",
       "    </tr>\n",
       "    <tr>\n",
       "      <th>2</th>\n",
       "      <td>Q197F8</td>\n",
       "      <td>Invertebrate iridescent virus 3 (IIV-3) (Mosqu...</td>\n",
       "      <td>[1]</td>\n",
       "      <td>NUCLEOTIDE SEQUENCE [LARGE SCALE GENOMIC DNA].</td>\n",
       "      <td>NaN</td>\n",
       "      <td>PubMed=16912294; DOI=10.1128/jvi.00464-06;</td>\n",
       "      <td>NaN</td>\n",
       "      <td>Delhon G., Tulman E.R., Afonso C.L., Lu Z., Be...</td>\n",
       "      <td>\"Genome of invertebrate iridescent virus type ...</td>\n",
       "      <td>J. Virol. 80:8439-8449(2006).</td>\n",
       "      <td></td>\n",
       "      <td></td>\n",
       "      <td></td>\n",
       "    </tr>\n",
       "    <tr>\n",
       "      <th>3</th>\n",
       "      <td>Q197F7</td>\n",
       "      <td>Invertebrate iridescent virus 3 (IIV-3) (Mosqu...</td>\n",
       "      <td>[1]</td>\n",
       "      <td>NUCLEOTIDE SEQUENCE [LARGE SCALE GENOMIC DNA].</td>\n",
       "      <td>NaN</td>\n",
       "      <td>PubMed=16912294; DOI=10.1128/jvi.00464-06;</td>\n",
       "      <td>NaN</td>\n",
       "      <td>Delhon G., Tulman E.R., Afonso C.L., Lu Z., Be...</td>\n",
       "      <td>\"Genome of invertebrate iridescent virus type ...</td>\n",
       "      <td>J. Virol. 80:8439-8449(2006).</td>\n",
       "      <td></td>\n",
       "      <td></td>\n",
       "      <td></td>\n",
       "    </tr>\n",
       "    <tr>\n",
       "      <th>4</th>\n",
       "      <td>Q6GZX2</td>\n",
       "      <td>Frog virus 3 (isolate Goorha) (FV-3)</td>\n",
       "      <td>[1]</td>\n",
       "      <td>NUCLEOTIDE SEQUENCE [LARGE SCALE GENOMIC DNA].</td>\n",
       "      <td>NaN</td>\n",
       "      <td>PubMed=15165820; DOI=10.1016/j.virol.2004.02.019;</td>\n",
       "      <td>NaN</td>\n",
       "      <td>Tan W.G., Barkman T.J., Gregory Chinchar V., E...</td>\n",
       "      <td>\"Comparative genomic analyses of frog virus 3,...</td>\n",
       "      <td>Virology 323:70-84(2004).</td>\n",
       "      <td></td>\n",
       "      <td></td>\n",
       "      <td></td>\n",
       "    </tr>\n",
       "  </tbody>\n",
       "</table>\n",
       "</div>"
      ],
      "text/plain": [
       "       AC                                                 OS   RN  \\\n",
       "0  Q6GZX4               Frog virus 3 (isolate Goorha) (FV-3)  [1]   \n",
       "1  Q6GZX3               Frog virus 3 (isolate Goorha) (FV-3)  [1]   \n",
       "2  Q197F8  Invertebrate iridescent virus 3 (IIV-3) (Mosqu...  [1]   \n",
       "3  Q197F7  Invertebrate iridescent virus 3 (IIV-3) (Mosqu...  [1]   \n",
       "4  Q6GZX2               Frog virus 3 (isolate Goorha) (FV-3)  [1]   \n",
       "\n",
       "                                               RP   RC  \\\n",
       "0  NUCLEOTIDE SEQUENCE [LARGE SCALE GENOMIC DNA].  NaN   \n",
       "1  NUCLEOTIDE SEQUENCE [LARGE SCALE GENOMIC DNA].  NaN   \n",
       "2  NUCLEOTIDE SEQUENCE [LARGE SCALE GENOMIC DNA].  NaN   \n",
       "3  NUCLEOTIDE SEQUENCE [LARGE SCALE GENOMIC DNA].  NaN   \n",
       "4  NUCLEOTIDE SEQUENCE [LARGE SCALE GENOMIC DNA].  NaN   \n",
       "\n",
       "                                                  RX   RG  \\\n",
       "0  PubMed=15165820; DOI=10.1016/j.virol.2004.02.019;  NaN   \n",
       "1  PubMed=15165820; DOI=10.1016/j.virol.2004.02.019;  NaN   \n",
       "2         PubMed=16912294; DOI=10.1128/jvi.00464-06;  NaN   \n",
       "3         PubMed=16912294; DOI=10.1128/jvi.00464-06;  NaN   \n",
       "4  PubMed=15165820; DOI=10.1016/j.virol.2004.02.019;  NaN   \n",
       "\n",
       "                                                  RA  \\\n",
       "0  Tan W.G., Barkman T.J., Gregory Chinchar V., E...   \n",
       "1  Tan W.G., Barkman T.J., Gregory Chinchar V., E...   \n",
       "2  Delhon G., Tulman E.R., Afonso C.L., Lu Z., Be...   \n",
       "3  Delhon G., Tulman E.R., Afonso C.L., Lu Z., Be...   \n",
       "4  Tan W.G., Barkman T.J., Gregory Chinchar V., E...   \n",
       "\n",
       "                                                  RT  \\\n",
       "0  \"Comparative genomic analyses of frog virus 3,...   \n",
       "1  \"Comparative genomic analyses of frog virus 3,...   \n",
       "2  \"Genome of invertebrate iridescent virus type ...   \n",
       "3  \"Genome of invertebrate iridescent virus type ...   \n",
       "4  \"Comparative genomic analyses of frog virus 3,...   \n",
       "\n",
       "                              RL Term_in_RP Term_in_RT Term_in_RC  \n",
       "0      Virology 323:70-84(2004).                                   \n",
       "1      Virology 323:70-84(2004).                                   \n",
       "2  J. Virol. 80:8439-8449(2006).                                   \n",
       "3  J. Virol. 80:8439-8449(2006).                                   \n",
       "4      Virology 323:70-84(2004).                                   "
      ]
     },
     "execution_count": 40,
     "metadata": {},
     "output_type": "execute_result"
    }
   ],
   "source": [
    "autoreg = pyreadr.read_r('data/raw/autoregulatoryDB.rds')\n",
    "autoreg_df = list(autoreg.values())[0]\n",
    "autoreg_df.head()"
   ]
  },
  {
   "cell_type": "code",
   "execution_count": 41,
   "id": "97715b51",
   "metadata": {},
   "outputs": [
    {
     "data": {
      "text/plain": [
       "(1323976, 13)"
      ]
     },
     "execution_count": 41,
     "metadata": {},
     "output_type": "execute_result"
    }
   ],
   "source": [
    "autoreg_df.shape"
   ]
  },
  {
   "cell_type": "code",
   "execution_count": 42,
   "id": "08d785a3",
   "metadata": {},
   "outputs": [
    {
     "data": {
      "text/plain": [
       "['AC',\n",
       " 'OS',\n",
       " 'RN',\n",
       " 'RP',\n",
       " 'RC',\n",
       " 'RX',\n",
       " 'RG',\n",
       " 'RA',\n",
       " 'RT',\n",
       " 'RL',\n",
       " 'Term_in_RP',\n",
       " 'Term_in_RT',\n",
       " 'Term_in_RC']"
      ]
     },
     "execution_count": 42,
     "metadata": {},
     "output_type": "execute_result"
    }
   ],
   "source": [
    "autoreg_df.columns.tolist()"
   ]
  },
  {
   "cell_type": "code",
   "execution_count": 43,
   "id": "99040e1c",
   "metadata": {},
   "outputs": [
    {
     "data": {
      "text/plain": [
       "AC            object\n",
       "OS            object\n",
       "RN            object\n",
       "RP            object\n",
       "RC            object\n",
       "RX            object\n",
       "RG            object\n",
       "RA            object\n",
       "RT            object\n",
       "RL            object\n",
       "Term_in_RP    object\n",
       "Term_in_RT    object\n",
       "Term_in_RC    object\n",
       "dtype: object"
      ]
     },
     "execution_count": 43,
     "metadata": {},
     "output_type": "execute_result"
    }
   ],
   "source": [
    "autoreg_df.dtypes"
   ]
  },
  {
   "cell_type": "code",
   "execution_count": 44,
   "id": "0f4df972",
   "metadata": {},
   "outputs": [],
   "source": [
    "a = autoreg_df.copy()"
   ]
  },
  {
   "cell_type": "code",
   "execution_count": 45,
   "id": "4fa18876",
   "metadata": {},
   "outputs": [],
   "source": [
    "a['PMID'] = a['RX'].str.extract(r'PubMed=(\\d+)', expand=False)\n",
    "a['PMID'] = pd.to_numeric(a['PMID'])"
   ]
  },
  {
   "cell_type": "code",
   "execution_count": 46,
   "id": "4a15d409",
   "metadata": {},
   "outputs": [
    {
     "data": {
      "text/plain": [
       "AC                  0\n",
       "OS                  0\n",
       "RN                  0\n",
       "RP                  0\n",
       "RC             511667\n",
       "RX             178720\n",
       "RG            1210925\n",
       "RA              68817\n",
       "RT              56058\n",
       "RL                  0\n",
       "Term_in_RP          0\n",
       "Term_in_RT          0\n",
       "Term_in_RC          0\n",
       "PMID           181779\n",
       "dtype: int64"
      ]
     },
     "execution_count": 46,
     "metadata": {},
     "output_type": "execute_result"
    }
   ],
   "source": [
    "a.isnull().sum()"
   ]
  },
  {
   "cell_type": "code",
   "execution_count": 48,
   "id": "0f4fdf65",
   "metadata": {},
   "outputs": [
    {
     "data": {
      "text/plain": [
       "0    15165820.0\n",
       "1    15165820.0\n",
       "2    16912294.0\n",
       "3    16912294.0\n",
       "4    15165820.0\n",
       "Name: PMID, dtype: float64"
      ]
     },
     "execution_count": 48,
     "metadata": {},
     "output_type": "execute_result"
    }
   ],
   "source": [
    "a['PMID'].head()"
   ]
  },
  {
   "cell_type": "code",
   "execution_count": 49,
   "id": "7f9cf539",
   "metadata": {},
   "outputs": [
    {
     "data": {
      "text/plain": [
       "(1144977, 14)"
      ]
     },
     "execution_count": 49,
     "metadata": {},
     "output_type": "execute_result"
    }
   ],
   "source": [
    "dup = a[a.duplicated('PMID', keep=False)].sort_values('PMID')\n",
    "dup.shape"
   ]
  },
  {
   "cell_type": "code",
   "execution_count": 50,
   "id": "128aadda",
   "metadata": {},
   "outputs": [],
   "source": [
    "def merge_terms(row):\n",
    "    cols = ['Term_in_RP', 'Term_in_RT', 'Term_in_RC']\n",
    "    terms = []\n",
    "    for col in cols:\n",
    "        val = row[col]\n",
    "        if pd.notna(val):\n",
    "            split_terms = [t.strip() for t in str(val).split(',') if t.strip()]\n",
    "            terms.extend(split_terms)\n",
    "    return ', '.join(sorted(set(terms))) if terms else ''\n",
    "\n",
    "a['Terms'] = a.apply(merge_terms, axis=1)"
   ]
  },
  {
   "cell_type": "code",
   "execution_count": 51,
   "id": "7651cc96",
   "metadata": {},
   "outputs": [
    {
     "name": "stdout",
     "output_type": "stream",
     "text": [
      "Labeled: 1823, Unlabeled: 1322153\n"
     ]
    }
   ],
   "source": [
    "labeled = sum((a['Terms'].notna()) & (a['Terms'] != ''))\n",
    "unlabeled = len(a) - labeled\n",
    "print(f'Labeled: {labeled}, Unlabeled: {unlabeled}')"
   ]
  },
  {
   "cell_type": "code",
   "execution_count": 52,
   "id": "caaba419",
   "metadata": {},
   "outputs": [
    {
     "data": {
      "text/plain": [
       "0.13788116806451298"
      ]
     },
     "execution_count": 52,
     "metadata": {},
     "output_type": "execute_result"
    }
   ],
   "source": [
    "labeled/unlabeled * 100"
   ]
  },
  {
   "cell_type": "code",
   "execution_count": 60,
   "id": "7365223a",
   "metadata": {},
   "outputs": [],
   "source": [
    "a['has_mechanism'] = a['Terms'].notna() & (a['Terms'] != '')\n",
    "labeled_df = a[a['has_mechanism'] == True].copy()\n",
    "unlabeled_df = a[a['has_mechanism'] == False].copy()\n"
   ]
  },
  {
   "cell_type": "code",
   "execution_count": 62,
   "id": "6d2d760a",
   "metadata": {},
   "outputs": [
    {
     "name": "stdout",
     "output_type": "stream",
     "text": [
      "\n",
      "✓ Labeled examples: 1823 (0.14%)\n",
      "✓ Unlabeled examples: 1322153 (99.86%)\n"
     ]
    }
   ],
   "source": [
    "print(f\"\\n✓ Labeled examples: {len(labeled_df)} ({len(labeled_df)/len(a)*100:.2f}%)\")\n",
    "print(f\"✓ Unlabeled examples: {len(unlabeled_df)} ({len(unlabeled_df)/len(a)*100:.2f}%)\")"
   ]
  },
  {
   "cell_type": "code",
   "execution_count": null,
   "id": "1343793d",
   "metadata": {},
   "outputs": [],
   "source": [
    "#a['Terms'] = a['Terms'].fillna(False).astype(bool)"
   ]
  },
  {
   "cell_type": "markdown",
   "id": "2767d29d",
   "metadata": {},
   "source": [
    "## Combined Dataset"
   ]
  },
  {
   "cell_type": "markdown",
   "id": "b5e33485",
   "metadata": {},
   "source": []
  }
 ],
 "metadata": {
  "kernelspec": {
   "display_name": "autoregulatory",
   "language": "python",
   "name": "python3"
  },
  "language_info": {
   "codemirror_mode": {
    "name": "ipython",
    "version": 3
   },
   "file_extension": ".py",
   "mimetype": "text/x-python",
   "name": "python",
   "nbconvert_exporter": "python",
   "pygments_lexer": "ipython3",
   "version": "3.11.14"
  }
 },
 "nbformat": 4,
 "nbformat_minor": 5
}
