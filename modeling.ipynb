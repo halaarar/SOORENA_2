{
 "cells": [
  {
   "cell_type": "markdown",
   "id": "2711314c",
   "metadata": {},
   "source": [
    "# Modeling"
   ]
  },
  {
   "cell_type": "markdown",
   "id": "5a5c04a5",
   "metadata": {},
   "source": [
    "## Setup"
   ]
  },
  {
   "cell_type": "code",
   "execution_count": 13,
   "id": "a27465cd",
   "metadata": {},
   "outputs": [],
   "source": [
    "import pandas as pd\n",
    "import numpy as np\n",
    "from sklearn.model_selection import train_test_split\n"
   ]
  },
  {
   "cell_type": "markdown",
   "id": "2502e171",
   "metadata": {},
   "source": [
    "## Data Loading"
   ]
  },
  {
   "cell_type": "code",
   "execution_count": 14,
   "id": "9e6dd370",
   "metadata": {},
   "outputs": [
    {
     "data": {
      "text/html": [
       "<div>\n",
       "<style scoped>\n",
       "    .dataframe tbody tr th:only-of-type {\n",
       "        vertical-align: middle;\n",
       "    }\n",
       "\n",
       "    .dataframe tbody tr th {\n",
       "        vertical-align: top;\n",
       "    }\n",
       "\n",
       "    .dataframe thead th {\n",
       "        text-align: right;\n",
       "    }\n",
       "</style>\n",
       "<table border=\"1\" class=\"dataframe\">\n",
       "  <thead>\n",
       "    <tr style=\"text-align: right;\">\n",
       "      <th></th>\n",
       "      <th>PMID</th>\n",
       "      <th>text</th>\n",
       "      <th>Terms</th>\n",
       "      <th>has_mechanism</th>\n",
       "    </tr>\n",
       "  </thead>\n",
       "  <tbody>\n",
       "    <tr>\n",
       "      <th>0</th>\n",
       "      <td>15165820</td>\n",
       "      <td>Comparative genomic analyses of frog virus 3, ...</td>\n",
       "      <td>NaN</td>\n",
       "      <td>False</td>\n",
       "    </tr>\n",
       "    <tr>\n",
       "      <th>1</th>\n",
       "      <td>16912294</td>\n",
       "      <td>Genome of invertebrate iridescent virus type 3...</td>\n",
       "      <td>NaN</td>\n",
       "      <td>False</td>\n",
       "    </tr>\n",
       "    <tr>\n",
       "      <th>2</th>\n",
       "      <td>11448171</td>\n",
       "      <td>Analysis of the first complete DNA sequence of...</td>\n",
       "      <td>NaN</td>\n",
       "      <td>False</td>\n",
       "    </tr>\n",
       "    <tr>\n",
       "      <th>3</th>\n",
       "      <td>17239238</td>\n",
       "      <td>Comparative genomic analysis of the family Iri...</td>\n",
       "      <td>NaN</td>\n",
       "      <td>False</td>\n",
       "    </tr>\n",
       "    <tr>\n",
       "      <th>4</th>\n",
       "      <td>20633916</td>\n",
       "      <td>Frog virus 3 ORF 53R, a putative myristoylated...</td>\n",
       "      <td>NaN</td>\n",
       "      <td>False</td>\n",
       "    </tr>\n",
       "  </tbody>\n",
       "</table>\n",
       "</div>"
      ],
      "text/plain": [
       "       PMID                                               text Terms  \\\n",
       "0  15165820  Comparative genomic analyses of frog virus 3, ...   NaN   \n",
       "1  16912294  Genome of invertebrate iridescent virus type 3...   NaN   \n",
       "2  11448171  Analysis of the first complete DNA sequence of...   NaN   \n",
       "3  17239238  Comparative genomic analysis of the family Iri...   NaN   \n",
       "4  20633916  Frog virus 3 ORF 53R, a putative myristoylated...   NaN   \n",
       "\n",
       "   has_mechanism  \n",
       "0          False  \n",
       "1          False  \n",
       "2          False  \n",
       "3          False  \n",
       "4          False  "
      ]
     },
     "execution_count": 14,
     "metadata": {},
     "output_type": "execute_result"
    }
   ],
   "source": [
    "df = pd.read_csv('data/processed/modeling_dataset.csv')\n",
    "df.head()"
   ]
  },
  {
   "cell_type": "markdown",
   "id": "1def5f49",
   "metadata": {},
   "source": [
    "## Quick Look at Data"
   ]
  },
  {
   "cell_type": "code",
   "execution_count": 6,
   "id": "c2c98bc6",
   "metadata": {},
   "outputs": [
    {
     "name": "stdout",
     "output_type": "stream",
     "text": [
      "Total papers: 254,199\n",
      "Labeled: 1,334\n",
      "\n",
      "Columns: ['PMID', 'text', 'Terms', 'has_mechanism']\n"
     ]
    },
    {
     "data": {
      "text/html": [
       "<div>\n",
       "<style scoped>\n",
       "    .dataframe tbody tr th:only-of-type {\n",
       "        vertical-align: middle;\n",
       "    }\n",
       "\n",
       "    .dataframe tbody tr th {\n",
       "        vertical-align: top;\n",
       "    }\n",
       "\n",
       "    .dataframe thead th {\n",
       "        text-align: right;\n",
       "    }\n",
       "</style>\n",
       "<table border=\"1\" class=\"dataframe\">\n",
       "  <thead>\n",
       "    <tr style=\"text-align: right;\">\n",
       "      <th></th>\n",
       "      <th>PMID</th>\n",
       "      <th>text</th>\n",
       "      <th>Terms</th>\n",
       "      <th>has_mechanism</th>\n",
       "    </tr>\n",
       "  </thead>\n",
       "  <tbody>\n",
       "    <tr>\n",
       "      <th>0</th>\n",
       "      <td>15165820</td>\n",
       "      <td>Comparative genomic analyses of frog virus 3, ...</td>\n",
       "      <td>NaN</td>\n",
       "      <td>False</td>\n",
       "    </tr>\n",
       "    <tr>\n",
       "      <th>1</th>\n",
       "      <td>16912294</td>\n",
       "      <td>Genome of invertebrate iridescent virus type 3...</td>\n",
       "      <td>NaN</td>\n",
       "      <td>False</td>\n",
       "    </tr>\n",
       "    <tr>\n",
       "      <th>2</th>\n",
       "      <td>11448171</td>\n",
       "      <td>Analysis of the first complete DNA sequence of...</td>\n",
       "      <td>NaN</td>\n",
       "      <td>False</td>\n",
       "    </tr>\n",
       "  </tbody>\n",
       "</table>\n",
       "</div>"
      ],
      "text/plain": [
       "       PMID                                               text Terms  \\\n",
       "0  15165820  Comparative genomic analyses of frog virus 3, ...   NaN   \n",
       "1  16912294  Genome of invertebrate iridescent virus type 3...   NaN   \n",
       "2  11448171  Analysis of the first complete DNA sequence of...   NaN   \n",
       "\n",
       "   has_mechanism  \n",
       "0          False  \n",
       "1          False  \n",
       "2          False  "
      ]
     },
     "execution_count": 6,
     "metadata": {},
     "output_type": "execute_result"
    }
   ],
   "source": [
    "\n",
    "# Quick look at what we have\n",
    "print(f\"Total papers: {len(df):,}\")\n",
    "print(f\"Labeled: {df['has_mechanism'].sum():,}\")\n",
    "print(f\"\\nColumns: {df.columns.tolist()}\")\n",
    "df.head(3)"
   ]
  },
  {
   "cell_type": "code",
   "execution_count": 7,
   "id": "7c4da323",
   "metadata": {},
   "outputs": [
    {
     "name": "stdout",
     "output_type": "stream",
     "text": [
      "Class distribution:\n",
      "autophosphorylation    721\n",
      "autoregulation         163\n",
      "autocatalytic          147\n",
      "autoinhibition         122\n",
      "autoubiquitination     121\n",
      "autolysis               41\n",
      "autoinducer             38\n",
      "Name: count, dtype: int64\n",
      "\n",
      "Total labeled papers: 1334\n",
      "Papers with multiple labels: 18\n"
     ]
    }
   ],
   "source": [
    "# Fix NaN in Terms column\n",
    "df['Terms'] = df['Terms'].fillna('')\n",
    "\n",
    "# Look at labeled data only\n",
    "labeled_df = df[df['has_mechanism']].copy()\n",
    "\n",
    "# Count each mechanism type\n",
    "all_terms = []\n",
    "for terms_str in labeled_df['Terms']:\n",
    "    if terms_str:\n",
    "        all_terms.extend([t.strip() for t in terms_str.split(',')])\n",
    "\n",
    "term_counts = pd.Series(all_terms).value_counts()\n",
    "print(\"Class distribution:\")\n",
    "print(term_counts)\n",
    "print(f\"\\nTotal labeled papers: {len(labeled_df)}\")\n",
    "print(f\"Papers with multiple labels: {labeled_df['Terms'].str.contains(',', na=False).sum()}\")"
   ]
  },
  {
   "cell_type": "markdown",
   "id": "5072dbb2",
   "metadata": {},
   "source": [
    "## Stage 1: Binary Classification"
   ]
  },
  {
   "cell_type": "markdown",
   "id": "bb50eac8",
   "metadata": {},
   "source": [
    "### Step 1: Prepare Stage 1 Dataset"
   ]
  },
  {
   "cell_type": "code",
   "execution_count": 15,
   "id": "cb4a45cf",
   "metadata": {},
   "outputs": [
    {
     "name": "stdout",
     "output_type": "stream",
     "text": [
      "Stage 1 labels:\n",
      "Positive (has mechanism): 1,334\n",
      "Unlabeled (unknown): 252,865\n"
     ]
    }
   ],
   "source": [
    "# Create Stage 1 binary labels\n",
    "# All labeled papers (any mechanism) = positive (1)\n",
    "# Unlabeled = unknown (0 for now, but we'll handle properly)\n",
    "\n",
    "df_stage1 = df.copy()\n",
    "df_stage1['binary_label'] = df_stage1['has_mechanism'].astype(int)\n",
    "\n",
    "# Check distribution\n",
    "print(\"Stage 1 labels:\")\n",
    "print(f\"Positive (has mechanism): {(df_stage1['binary_label'] == 1).sum():,}\")\n",
    "print(f\"Unlabeled (unknown): {(df_stage1['binary_label'] == 0).sum():,}\")"
   ]
  },
  {
   "cell_type": "markdown",
   "id": "6de3f74d",
   "metadata": {},
   "source": [
    "### Step 2: Split Stage 1 Data"
   ]
  },
  {
   "cell_type": "code",
   "execution_count": 16,
   "id": "9b50566d",
   "metadata": {},
   "outputs": [
    {
     "name": "stdout",
     "output_type": "stream",
     "text": [
      "Positive train: 933\n",
      "Positive val: 200\n",
      "Positive test: 201\n",
      "Unlabeled pool: 252,865\n"
     ]
    }
   ],
   "source": [
    "# Separate positive and unlabeled\n",
    "positive_df = df_stage1[df_stage1['binary_label'] == 1].copy()\n",
    "unlabeled_df = df_stage1[df_stage1['binary_label'] == 0].copy()\n",
    "\n",
    "# Split positives into train/val/test (same 70/15/15 split)\n",
    "pos_train, pos_temp = train_test_split(positive_df, test_size=0.3, random_state=42)\n",
    "pos_val, pos_test = train_test_split(pos_temp, test_size=0.5, random_state=42)\n",
    "\n",
    "print(f\"Positive train: {len(pos_train)}\")\n",
    "print(f\"Positive val: {len(pos_val)}\")\n",
    "print(f\"Positive test: {len(pos_test)}\")\n",
    "print(f\"Unlabeled pool: {len(unlabeled_df):,}\")"
   ]
  },
  {
   "cell_type": "markdown",
   "id": "af99a120",
   "metadata": {},
   "source": [
    "### Step 3: Sample Unlabeled for Initial Training"
   ]
  },
  {
   "cell_type": "code",
   "execution_count": 17,
   "id": "34093731",
   "metadata": {},
   "outputs": [
    {
     "name": "stdout",
     "output_type": "stream",
     "text": [
      "Stage 1 binary classification splits:\n",
      "Train: 933 positive + 1866 unlabeled = 2799 total\n",
      "Val: 200 positive + 400 unlabeled = 600 total\n",
      "Test: 201 positive + 402 unlabeled = 603 total\n"
     ]
    }
   ],
   "source": [
    "# Sample unlabeled for training (2:1 ratio)\n",
    "# 933 positives → sample ~1,866 unlabeled\n",
    "n_unlabeled_sample = len(pos_train) * 2\n",
    "\n",
    "unlabeled_train = unlabeled_df.sample(n=n_unlabeled_sample, random_state=42)\n",
    "\n",
    "# For val/test, use smaller samples\n",
    "unlabeled_val = unlabeled_df.drop(unlabeled_train.index).sample(n=len(pos_val) * 2, random_state=42)\n",
    "unlabeled_test = unlabeled_df.drop(unlabeled_train.index.union(unlabeled_val.index)).sample(n=len(pos_test) * 2, random_state=42)\n",
    "\n",
    "print(\"Stage 1 binary classification splits:\")\n",
    "print(f\"Train: {len(pos_train)} positive + {len(unlabeled_train)} unlabeled = {len(pos_train) + len(unlabeled_train)} total\")\n",
    "print(f\"Val: {len(pos_val)} positive + {len(unlabeled_val)} unlabeled = {len(pos_val) + len(unlabeled_val)} total\")\n",
    "print(f\"Test: {len(pos_test)} positive + {len(unlabeled_test)} unlabeled = {len(pos_test) + len(unlabeled_test)} total\")"
   ]
  },
  {
   "cell_type": "markdown",
   "id": "a91047a7",
   "metadata": {},
   "source": [
    "### Step 4: Combine and Save Stage 1 Splits"
   ]
  },
  {
   "cell_type": "code",
   "execution_count": 18,
   "id": "87d20f67",
   "metadata": {},
   "outputs": [
    {
     "name": "stdout",
     "output_type": "stream",
     "text": [
      "\n",
      "✓ Saved Stage 1 splits\n"
     ]
    }
   ],
   "source": [
    "# Combine positive + unlabeled for each split\n",
    "stage1_train = pd.concat([pos_train, unlabeled_train]).sample(frac=1, random_state=42)  # shuffle\n",
    "stage1_val = pd.concat([pos_val, unlabeled_val]).sample(frac=1, random_state=42)\n",
    "stage1_test = pd.concat([pos_test, unlabeled_test]).sample(frac=1, random_state=42)\n",
    "\n",
    "# Save\n",
    "stage1_train.to_csv('data/processed/stage1_train.csv', index=False)\n",
    "stage1_val.to_csv('data/processed/stage1_val.csv', index=False)\n",
    "stage1_test.to_csv('data/processed/stage1_test.csv', index=False)\n",
    "\n",
    "print(\"\\n✓ Saved Stage 1 splits\")"
   ]
  },
  {
   "cell_type": "markdown",
   "id": "bd06c9e3",
   "metadata": {},
   "source": [
    "### Step 5 Load PubMedBERT Model"
   ]
  },
  {
   "cell_type": "code",
   "execution_count": 21,
   "id": "11c6a8f5",
   "metadata": {},
   "outputs": [
    {
     "name": "stdout",
     "output_type": "stream",
     "text": [
      "Using device: cpu\n"
     ]
    },
    {
     "name": "stderr",
     "output_type": "stream",
     "text": [
      "Some weights of BertForSequenceClassification were not initialized from the model checkpoint at microsoft/BiomedNLP-PubMedBERT-base-uncased-abstract-fulltext and are newly initialized: ['classifier.bias', 'classifier.weight']\n",
      "You should probably TRAIN this model on a down-stream task to be able to use it for predictions and inference.\n"
     ]
    },
    {
     "name": "stdout",
     "output_type": "stream",
     "text": [
      "\n",
      "✓ Loaded microsoft/BiomedNLP-PubMedBERT-base-uncased-abstract-fulltext\n",
      "Model parameters: 109,483,778\n"
     ]
    }
   ],
   "source": [
    "from transformers import AutoTokenizer, AutoModelForSequenceClassification\n",
    "import torch\n",
    "\n",
    "# Check if GPU is available\n",
    "device = torch.device('cuda' if torch.cuda.is_available() else 'cpu')\n",
    "print(f\"Using device: {device}\")\n",
    "\n",
    "# Load PubMedBERT tokenizer and model (force safetensors to avoid torch.load security issue)\n",
    "model_name = \"microsoft/BiomedNLP-PubMedBERT-base-uncased-abstract-fulltext\"\n",
    "\n",
    "tokenizer = AutoTokenizer.from_pretrained(model_name)\n",
    "model = AutoModelForSequenceClassification.from_pretrained(\n",
    "    model_name,\n",
    "    num_labels=2,\n",
    "    problem_type=\"single_label_classification\",\n",
    "    use_safetensors=True  # Added this\n",
    ")\n",
    "\n",
    "model = model.to(device)\n",
    "\n",
    "print(f\"\\n✓ Loaded {model_name}\")\n",
    "print(f\"Model parameters: {model.num_parameters():,}\")"
   ]
  },
  {
   "cell_type": "markdown",
   "id": "f95fea3f",
   "metadata": {},
   "source": [
    "### Step 6: Prepare Dataset for Training"
   ]
  },
  {
   "cell_type": "code",
   "execution_count": 22,
   "id": "4614ee02",
   "metadata": {},
   "outputs": [
    {
     "name": "stdout",
     "output_type": "stream",
     "text": [
      "Example text length: 191 tokens\n",
      "BERT max length: 512 tokens\n",
      "\n",
      "Token lengths - Mean: 273, Max: 715, >512: 25\n"
     ]
    }
   ],
   "source": [
    "# Load the splits\n",
    "stage1_train = pd.read_csv('data/processed/stage1_train.csv')\n",
    "stage1_val = pd.read_csv('data/processed/stage1_val.csv')\n",
    "stage1_test = pd.read_csv('data/processed/stage1_test.csv')\n",
    "\n",
    "# Check text lengths (in tokens, not characters)\n",
    "sample_text = stage1_train['text'].iloc[0]\n",
    "tokens = tokenizer.encode(sample_text)\n",
    "print(f\"Example text length: {len(tokens)} tokens\")\n",
    "print(f\"BERT max length: 512 tokens\")\n",
    "\n",
    "# Check if we need truncation\n",
    "all_lengths = stage1_train['text'].apply(lambda x: len(tokenizer.encode(x, add_special_tokens=True)))\n",
    "print(f\"\\nToken lengths - Mean: {all_lengths.mean():.0f}, Max: {all_lengths.max()}, >512: {(all_lengths > 512).sum()}\")"
   ]
  },
  {
   "cell_type": "markdown",
   "id": "0df92b6d",
   "metadata": {},
   "source": [
    "### Step 7: Create PyTorch Dataset"
   ]
  },
  {
   "cell_type": "code",
   "execution_count": 23,
   "id": "21f860f2",
   "metadata": {},
   "outputs": [
    {
     "name": "stdout",
     "output_type": "stream",
     "text": [
      "Train dataset: 2799 examples\n",
      "Val dataset: 600 examples\n",
      "Test dataset: 603 examples\n"
     ]
    }
   ],
   "source": [
    "from torch.utils.data import Dataset, DataLoader\n",
    "\n",
    "class MechanismDataset(Dataset):\n",
    "    def __init__(self, dataframe, tokenizer, max_length=512):\n",
    "        self.texts = dataframe['text'].values\n",
    "        self.labels = dataframe['binary_label'].values\n",
    "        self.tokenizer = tokenizer\n",
    "        self.max_length = max_length\n",
    "    \n",
    "    def __len__(self):\n",
    "        return len(self.texts)\n",
    "    \n",
    "    def __getitem__(self, idx):\n",
    "        text = str(self.texts[idx])\n",
    "        label = self.labels[idx]\n",
    "        \n",
    "        # Tokenize\n",
    "        encoding = self.tokenizer(\n",
    "            text,\n",
    "            truncation=True,\n",
    "            padding='max_length',\n",
    "            max_length=self.max_length,\n",
    "            return_tensors='pt'\n",
    "        )\n",
    "        \n",
    "        return {\n",
    "            'input_ids': encoding['input_ids'].flatten(),\n",
    "            'attention_mask': encoding['attention_mask'].flatten(),\n",
    "            'labels': torch.tensor(label, dtype=torch.long)\n",
    "        }\n",
    "\n",
    "# Create datasets\n",
    "train_dataset = MechanismDataset(stage1_train, tokenizer)\n",
    "val_dataset = MechanismDataset(stage1_val, tokenizer)\n",
    "test_dataset = MechanismDataset(stage1_test, tokenizer)\n",
    "\n",
    "print(f\"Train dataset: {len(train_dataset)} examples\")\n",
    "print(f\"Val dataset: {len(val_dataset)} examples\")\n",
    "print(f\"Test dataset: {len(test_dataset)} examples\")"
   ]
  },
  {
   "cell_type": "markdown",
   "id": "3edf9875",
   "metadata": {},
   "source": [
    "### Step 8: Create DataLoaders"
   ]
  },
  {
   "cell_type": "code",
   "execution_count": 24,
   "id": "1ee3a0f6",
   "metadata": {},
   "outputs": [
    {
     "name": "stdout",
     "output_type": "stream",
     "text": [
      "Batch size: 16\n",
      "Train batches: 175\n",
      "Val batches: 38\n"
     ]
    }
   ],
   "source": [
    "# Create dataloaders\n",
    "batch_size = 16  # Adjust based on your memory\n",
    "\n",
    "train_loader = DataLoader(train_dataset, batch_size=batch_size, shuffle=True)\n",
    "val_loader = DataLoader(val_dataset, batch_size=batch_size)\n",
    "test_loader = DataLoader(test_dataset, batch_size=batch_size)\n",
    "\n",
    "print(f\"Batch size: {batch_size}\")\n",
    "print(f\"Train batches: {len(train_loader)}\")\n",
    "print(f\"Val batches: {len(val_loader)}\")"
   ]
  },
  {
   "cell_type": "markdown",
   "id": "2b0b2153",
   "metadata": {},
   "source": [
    "### Step 9: Set Up Training"
   ]
  },
  {
   "cell_type": "code",
   "execution_count": 26,
   "id": "7a2d4b48",
   "metadata": {},
   "outputs": [
    {
     "name": "stdout",
     "output_type": "stream",
     "text": [
      "Training setup:\n",
      "Epochs: 3\n",
      "Learning rate: 2e-05\n",
      "Total steps: 525\n",
      "Warmup steps: 52\n"
     ]
    }
   ],
   "source": [
    "from torch.optim import AdamW\n",
    "from transformers import get_linear_schedule_with_warmup\n",
    "\n",
    "# Training parameters\n",
    "epochs = 3\n",
    "learning_rate = 2e-5\n",
    "\n",
    "# Optimizer\n",
    "optimizer = AdamW(model.parameters(), lr=learning_rate)\n",
    "\n",
    "# Learning rate scheduler\n",
    "total_steps = len(train_loader) * epochs\n",
    "warmup_steps = total_steps // 10\n",
    "\n",
    "scheduler = get_linear_schedule_with_warmup(\n",
    "    optimizer,\n",
    "    num_warmup_steps=warmup_steps,\n",
    "    num_training_steps=total_steps\n",
    ")\n",
    "\n",
    "print(f\"Training setup:\")\n",
    "print(f\"Epochs: {epochs}\")\n",
    "print(f\"Learning rate: {learning_rate}\")\n",
    "print(f\"Total steps: {total_steps}\")\n",
    "print(f\"Warmup steps: {warmup_steps}\")"
   ]
  },
  {
   "cell_type": "markdown",
   "id": "d3f6943c",
   "metadata": {},
   "source": [
    "### Step 10: Training Loop"
   ]
  },
  {
   "cell_type": "code",
   "execution_count": 27,
   "id": "c9150c27",
   "metadata": {},
   "outputs": [
    {
     "name": "stdout",
     "output_type": "stream",
     "text": [
      "✓ Training functions ready\n"
     ]
    }
   ],
   "source": [
    "from sklearn.metrics import accuracy_score, precision_recall_fscore_support\n",
    "from tqdm import tqdm\n",
    "\n",
    "def train_epoch(model, dataloader, optimizer, scheduler, device):\n",
    "    model.train()\n",
    "    total_loss = 0\n",
    "    predictions, true_labels = [], []\n",
    "    \n",
    "    for batch in tqdm(dataloader, desc=\"Training\"):\n",
    "        # Move batch to device\n",
    "        input_ids = batch['input_ids'].to(device)\n",
    "        attention_mask = batch['attention_mask'].to(device)\n",
    "        labels = batch['labels'].to(device)\n",
    "        \n",
    "        # Forward pass\n",
    "        outputs = model(input_ids=input_ids, attention_mask=attention_mask, labels=labels)\n",
    "        loss = outputs.loss\n",
    "        \n",
    "        # Backward pass\n",
    "        optimizer.zero_grad()\n",
    "        loss.backward()\n",
    "        optimizer.step()\n",
    "        scheduler.step()\n",
    "        \n",
    "        total_loss += loss.item()\n",
    "        \n",
    "        # Get predictions\n",
    "        preds = torch.argmax(outputs.logits, dim=1)\n",
    "        predictions.extend(preds.cpu().numpy())\n",
    "        true_labels.extend(labels.cpu().numpy())\n",
    "    \n",
    "    avg_loss = total_loss / len(dataloader)\n",
    "    accuracy = accuracy_score(true_labels, predictions)\n",
    "    \n",
    "    return avg_loss, accuracy\n",
    "\n",
    "def evaluate(model, dataloader, device):\n",
    "    model.eval()\n",
    "    total_loss = 0\n",
    "    predictions, true_labels = [], []\n",
    "    \n",
    "    with torch.no_grad():\n",
    "        for batch in tqdm(dataloader, desc=\"Evaluating\"):\n",
    "            input_ids = batch['input_ids'].to(device)\n",
    "            attention_mask = batch['attention_mask'].to(device)\n",
    "            labels = batch['labels'].to(device)\n",
    "            \n",
    "            outputs = model(input_ids=input_ids, attention_mask=attention_mask, labels=labels)\n",
    "            loss = outputs.loss\n",
    "            \n",
    "            total_loss += loss.item()\n",
    "            \n",
    "            preds = torch.argmax(outputs.logits, dim=1)\n",
    "            predictions.extend(preds.cpu().numpy())\n",
    "            true_labels.extend(labels.cpu().numpy())\n",
    "    \n",
    "    avg_loss = total_loss / len(dataloader)\n",
    "    accuracy = accuracy_score(true_labels, predictions)\n",
    "    precision, recall, f1, _ = precision_recall_fscore_support(true_labels, predictions, average='binary')\n",
    "    \n",
    "    return avg_loss, accuracy, precision, recall, f1\n",
    "\n",
    "print(\"✓ Training functions ready\")"
   ]
  },
  {
   "cell_type": "code",
   "execution_count": 29,
   "id": "9e89f845",
   "metadata": {},
   "outputs": [
    {
     "name": "stdout",
     "output_type": "stream",
     "text": [
      "\n",
      "Epoch 1/3\n"
     ]
    },
    {
     "name": "stderr",
     "output_type": "stream",
     "text": [
      "Training: 100%|██████████| 175/175 [34:06<00:00, 11.69s/it]\n",
      "Evaluating: 100%|██████████| 38/38 [01:24<00:00,  2.23s/it]\n"
     ]
    },
    {
     "name": "stdout",
     "output_type": "stream",
     "text": [
      "Train Loss: 0.1552, Train Acc: 0.9446\n",
      "Val Loss: 0.1621, Val Acc: 0.9400\n",
      "Val Precision: 0.8905, Recall: 0.9350, F1: 0.9122\n",
      "✓ Saved best model (F1: 0.9122)\n",
      "\n",
      "Epoch 2/3\n"
     ]
    },
    {
     "name": "stderr",
     "output_type": "stream",
     "text": [
      "Training: 100%|██████████| 175/175 [37:21<00:00, 12.81s/it]\n",
      "Evaluating: 100%|██████████| 38/38 [01:27<00:00,  2.30s/it]\n"
     ]
    },
    {
     "name": "stdout",
     "output_type": "stream",
     "text": [
      "Train Loss: 0.0903, Train Acc: 0.9700\n",
      "Val Loss: 0.1811, Val Acc: 0.9383\n",
      "Val Precision: 0.8756, Recall: 0.9500, F1: 0.9113\n",
      "\n",
      "Epoch 3/3\n"
     ]
    },
    {
     "name": "stderr",
     "output_type": "stream",
     "text": [
      "Training: 100%|██████████| 175/175 [35:46<00:00, 12.27s/it]\n",
      "Evaluating: 100%|██████████| 38/38 [01:25<00:00,  2.25s/it]"
     ]
    },
    {
     "name": "stdout",
     "output_type": "stream",
     "text": [
      "Train Loss: 0.0688, Train Acc: 0.9804\n",
      "Val Loss: 0.1811, Val Acc: 0.9383\n",
      "Val Precision: 0.8756, Recall: 0.9500, F1: 0.9113\n"
     ]
    },
    {
     "name": "stderr",
     "output_type": "stream",
     "text": [
      "\n"
     ]
    }
   ],
   "source": [
    "import os\n",
    "\n",
    "# Create models directory if it doesn't exist\n",
    "os.makedirs('models', exist_ok=True)\n",
    "\n",
    "# Train the model\n",
    "best_f1 = 0\n",
    "\n",
    "for epoch in range(epochs):\n",
    "    print(f\"\\nEpoch {epoch + 1}/{epochs}\")\n",
    "    \n",
    "    train_loss, train_acc = train_epoch(model, train_loader, optimizer, scheduler, device)\n",
    "    val_loss, val_acc, val_prec, val_rec, val_f1 = evaluate(model, val_loader, device)\n",
    "    \n",
    "    print(f\"Train Loss: {train_loss:.4f}, Train Acc: {train_acc:.4f}\")\n",
    "    print(f\"Val Loss: {val_loss:.4f}, Val Acc: {val_acc:.4f}\")\n",
    "    print(f\"Val Precision: {val_prec:.4f}, Recall: {val_rec:.4f}, F1: {val_f1:.4f}\")\n",
    "    \n",
    "    # Save best model\n",
    "    if val_f1 > best_f1:\n",
    "        best_f1 = val_f1\n",
    "        torch.save(model.state_dict(), 'models/stage1_best.pt')\n",
    "        print(f\"✓ Saved best model (F1: {best_f1:.4f})\")"
   ]
  },
  {
   "cell_type": "code",
   "execution_count": 30,
   "id": "1a73433b",
   "metadata": {},
   "outputs": [
    {
     "name": "stderr",
     "output_type": "stream",
     "text": [
      "/var/folders/n9/9tsj9gw15ll9ycvpvm3m3pq80000gn/T/ipykernel_62294/1517183823.py:2: FutureWarning: You are using `torch.load` with `weights_only=False` (the current default value), which uses the default pickle module implicitly. It is possible to construct malicious pickle data which will execute arbitrary code during unpickling (See https://github.com/pytorch/pytorch/blob/main/SECURITY.md#untrusted-models for more details). In a future release, the default value for `weights_only` will be flipped to `True`. This limits the functions that could be executed during unpickling. Arbitrary objects will no longer be allowed to be loaded via this mode unless they are explicitly allowlisted by the user via `torch.serialization.add_safe_globals`. We recommend you start setting `weights_only=True` for any use case where you don't have full control of the loaded file. Please open an issue on GitHub for any issues related to this experimental feature.\n",
      "  model.load_state_dict(torch.load('models/stage1_best.pt'))\n",
      "Evaluating: 100%|██████████| 38/38 [01:26<00:00,  2.27s/it]"
     ]
    },
    {
     "name": "stdout",
     "output_type": "stream",
     "text": [
      "\n",
      "Test Set Performance:\n",
      "Accuracy: 0.9453\n",
      "Precision: 0.9158\n",
      "Recall: 0.9204\n",
      "F1 Score: 0.9181\n"
     ]
    },
    {
     "name": "stderr",
     "output_type": "stream",
     "text": [
      "\n"
     ]
    }
   ],
   "source": [
    "# Load best model\n",
    "model.load_state_dict(torch.load('models/stage1_best.pt'))\n",
    "\n",
    "# Evaluate on test set\n",
    "test_loss, test_acc, test_prec, test_rec, test_f1 = evaluate(model, test_loader, device)\n",
    "\n",
    "print(\"\\nTest Set Performance:\")\n",
    "print(f\"Accuracy: {test_acc:.4f}\")\n",
    "print(f\"Precision: {test_prec:.4f}\")\n",
    "print(f\"Recall: {test_rec:.4f}\")\n",
    "print(f\"F1 Score: {test_f1:.4f}\")"
   ]
  },
  {
   "cell_type": "code",
   "execution_count": 31,
   "id": "93fb87c7",
   "metadata": {},
   "outputs": [
    {
     "name": "stderr",
     "output_type": "stream",
     "text": [
      "Getting predictions: 100%|██████████| 38/38 [01:27<00:00,  2.31s/it]"
     ]
    },
    {
     "name": "stdout",
     "output_type": "stream",
     "text": [
      "Labeled positives - Mean confidence: 0.8918, Min: 0.0086\n",
      "Unlabeled - Mean confidence: 0.0668, Max: 0.9845\n"
     ]
    },
    {
     "name": "stderr",
     "output_type": "stream",
     "text": [
      "\n"
     ]
    }
   ],
   "source": [
    "# Get predictions with confidence scores\n",
    "def get_predictions_with_confidence(model, dataloader, device):\n",
    "    model.eval()\n",
    "    all_probs = []\n",
    "    all_preds = []\n",
    "    all_labels = []\n",
    "    \n",
    "    with torch.no_grad():\n",
    "        for batch in tqdm(dataloader, desc=\"Getting predictions\"):\n",
    "            input_ids = batch['input_ids'].to(device)\n",
    "            attention_mask = batch['attention_mask'].to(device)\n",
    "            labels = batch['labels'].to(device)\n",
    "            \n",
    "            outputs = model(input_ids=input_ids, attention_mask=attention_mask)\n",
    "            probs = torch.softmax(outputs.logits, dim=1)\n",
    "            preds = torch.argmax(probs, dim=1)\n",
    "            \n",
    "            all_probs.extend(probs[:, 1].cpu().numpy())  # Probability of class 1 (mechanism)\n",
    "            all_preds.extend(preds.cpu().numpy())\n",
    "            all_labels.extend(labels.cpu().numpy())\n",
    "    \n",
    "    return np.array(all_probs), np.array(all_preds), np.array(all_labels)\n",
    "\n",
    "# Get confidence on test set\n",
    "test_probs, test_preds, test_labels = get_predictions_with_confidence(model, test_loader, device)\n",
    "\n",
    "# Analyze confidence for true positives (labeled as mechanism)\n",
    "true_positive_mask = test_labels == 1\n",
    "tp_confidences = test_probs[true_positive_mask]\n",
    "print(f\"Labeled positives - Mean confidence: {tp_confidences.mean():.4f}, Min: {tp_confidences.min():.4f}\")\n",
    "\n",
    "# Analyze \"unlabeled\" predictions (could be true negatives OR unlabeled positives)\n",
    "unlabeled_mask = test_labels == 0\n",
    "unlabeled_confidences = test_probs[unlabeled_mask]\n",
    "print(f\"Unlabeled - Mean confidence: {unlabeled_confidences.mean():.4f}, Max: {unlabeled_confidences.max():.4f}\")"
   ]
  },
  {
   "cell_type": "code",
   "execution_count": 32,
   "id": "5100d400",
   "metadata": {},
   "outputs": [
    {
     "name": "stdout",
     "output_type": "stream",
     "text": [
      "LOW CONFIDENCE LABELED POSITIVE:\n",
      "PMID: 10838186\n",
      "Confidence: 0.0086\n",
      "Terms: autocatalytic\n",
      "Text: Identification of a novel aspartic-like protease differentially expressed in human breast cancer cell lines.. Four different human breast cancer cell lines were examined to search for genes associated with tumor growth and metastasis. Each of these cell lines, MDA-MB-453, MCF-7, MDA-MB-231 and MDA-M...\n",
      "\n",
      "HIGH CONFIDENCE UNLABELED PAPERS: 8\n",
      "\n",
      "PMID: 17190791\n",
      "Confidence: 0.9489\n",
      "Text: Regulation of activity and localization of the WNK1 protein kinase by hyperosmotic stress.. Mutations within the WNK1 (with-no-K[Lys] kinase-1) gene cause Gordon's hypertension syndrome. Little is known about how WNK1 is regulated. We demonstrate that WNK1 is rapidly activated and phosphorylated at ...\n",
      "\n",
      "PMID: 19765683\n",
      "Confidence: 0.9105\n",
      "Text: Heterozygous NTF4 mutations impairing neurotrophin-4 signaling in patients with primary open-angle glaucoma.. Glaucoma, a main cause of blindness in the developed world, is characterized by progressive degeneration of retinal ganglion cells (RGCs), resulting in irreversible loss of vision. Although ...\n",
      "\n",
      "PMID: 3323833\n",
      "Confidence: 0.9595\n",
      "Text: Identification of components of a new stability system of plasmid R1, ParD, that is close to the origin of replication of this plasmid.. We provide evidence that a mutation which derepresses an autoregulated system that is located in the vicinity of the basic replicon of R1, stabilizes the ParA- and...\n"
     ]
    }
   ],
   "source": [
    "# Find the low-confidence labeled positive (possible mislabel)\n",
    "low_conf_idx = np.where(true_positive_mask)[0][np.argmin(tp_confidences)]\n",
    "print(\"LOW CONFIDENCE LABELED POSITIVE:\")\n",
    "print(f\"PMID: {stage1_test.iloc[low_conf_idx]['PMID']}\")\n",
    "print(f\"Confidence: {tp_confidences.min():.4f}\")\n",
    "print(f\"Terms: {stage1_test.iloc[low_conf_idx]['Terms']}\")\n",
    "print(f\"Text: {stage1_test.iloc[low_conf_idx]['text'][:300]}...\\n\")\n",
    "\n",
    "# Find high-confidence unlabeled papers (potential unreported mechanisms)\n",
    "high_conf_unlabeled = np.where((unlabeled_mask) & (test_probs > 0.9))[0]\n",
    "print(f\"HIGH CONFIDENCE UNLABELED PAPERS: {len(high_conf_unlabeled)}\")\n",
    "if len(high_conf_unlabeled) > 0:\n",
    "    for idx in high_conf_unlabeled[:3]:  # Show top 3\n",
    "        print(f\"\\nPMID: {stage1_test.iloc[idx]['PMID']}\")\n",
    "        print(f\"Confidence: {test_probs[idx]:.4f}\")\n",
    "        print(f\"Text: {stage1_test.iloc[idx]['text'][:300]}...\")"
   ]
  },
  {
   "cell_type": "markdown",
   "id": "1d8c71dc",
   "metadata": {},
   "source": [
    "## Stage 2: Multi-class Classification"
   ]
  },
  {
   "cell_type": "markdown",
   "id": "1e562585",
   "metadata": {},
   "source": [
    "### Step 1: Prepare Stage 2 Data"
   ]
  },
  {
   "cell_type": "code",
   "execution_count": 33,
   "id": "b1286ae0",
   "metadata": {},
   "outputs": [
    {
     "name": "stdout",
     "output_type": "stream",
     "text": [
      "Stage 2 (7-class) splits:\n",
      "Train: 933, Val: 200, Test: 201\n",
      "\n",
      "Class distribution in training:\n",
      "label\n",
      "autocatalytic          103\n",
      "autoinducer             27\n",
      "autoinhibition          85\n",
      "autolysis               27\n",
      "autophosphorylation    499\n",
      "autoregulation         110\n",
      "autoubiquitination      82\n",
      "Name: count, dtype: int64\n"
     ]
    }
   ],
   "source": [
    "# Load the labeled-only splits we created earlier\n",
    "train_df = pd.read_csv('data/processed/train.csv')\n",
    "val_df = pd.read_csv('data/processed/val.csv')\n",
    "test_df = pd.read_csv('data/processed/test.csv')\n",
    "\n",
    "# Create numeric labels for the 7 classes\n",
    "label_map = {\n",
    "    'autophosphorylation': 0,\n",
    "    'autoregulation': 1,\n",
    "    'autocatalytic': 2,\n",
    "    'autoinhibition': 3,\n",
    "    'autoubiquitination': 4,\n",
    "    'autolysis': 5,\n",
    "    'autoinducer': 6\n",
    "}\n",
    "\n",
    "# Apply mapping\n",
    "train_df['numeric_label'] = train_df['label'].map(label_map)\n",
    "val_df['numeric_label'] = val_df['label'].map(label_map)\n",
    "test_df['numeric_label'] = test_df['label'].map(label_map)\n",
    "\n",
    "print(f\"Stage 2 (7-class) splits:\")\n",
    "print(f\"Train: {len(train_df)}, Val: {len(val_df)}, Test: {len(test_df)}\")\n",
    "print(f\"\\nClass distribution in training:\")\n",
    "print(train_df['label'].value_counts().sort_index())"
   ]
  },
  {
   "cell_type": "markdown",
   "id": "266de72a",
   "metadata": {},
   "source": [
    "### Step 2: Create Stage 2 Dataset"
   ]
  },
  {
   "cell_type": "code",
   "execution_count": 34,
   "id": "39d8905a",
   "metadata": {},
   "outputs": [
    {
     "name": "stdout",
     "output_type": "stream",
     "text": [
      "Stage 2 datasets ready\n",
      "Train batches: 59\n"
     ]
    }
   ],
   "source": [
    "class MultiClassDataset(Dataset):\n",
    "    def __init__(self, dataframe, tokenizer, max_length=512):\n",
    "        self.texts = dataframe['text'].values\n",
    "        self.labels = dataframe['numeric_label'].values\n",
    "        self.tokenizer = tokenizer\n",
    "        self.max_length = max_length\n",
    "    \n",
    "    def __len__(self):\n",
    "        return len(self.texts)\n",
    "    \n",
    "    def __getitem__(self, idx):\n",
    "        text = str(self.texts[idx])\n",
    "        label = self.labels[idx]\n",
    "        \n",
    "        encoding = self.tokenizer(\n",
    "            text,\n",
    "            truncation=True,\n",
    "            padding='max_length',\n",
    "            max_length=self.max_length,\n",
    "            return_tensors='pt'\n",
    "        )\n",
    "        \n",
    "        return {\n",
    "            'input_ids': encoding['input_ids'].flatten(),\n",
    "            'attention_mask': encoding['attention_mask'].flatten(),\n",
    "            'labels': torch.tensor(label, dtype=torch.long)\n",
    "        }\n",
    "\n",
    "# Create datasets\n",
    "train_dataset_s2 = MultiClassDataset(train_df, tokenizer)\n",
    "val_dataset_s2 = MultiClassDataset(val_df, tokenizer)\n",
    "test_dataset_s2 = MultiClassDataset(test_df, tokenizer)\n",
    "\n",
    "# Create dataloaders\n",
    "train_loader_s2 = DataLoader(train_dataset_s2, batch_size=16, shuffle=True)\n",
    "val_loader_s2 = DataLoader(val_dataset_s2, batch_size=16)\n",
    "test_loader_s2 = DataLoader(test_dataset_s2, batch_size=16)\n",
    "\n",
    "print(f\"Stage 2 datasets ready\")\n",
    "print(f\"Train batches: {len(train_loader_s2)}\")"
   ]
  },
  {
   "cell_type": "markdown",
   "id": "39c76e5b",
   "metadata": {},
   "source": [
    "### Step 3: Load New Model with Class Weights"
   ]
  },
  {
   "cell_type": "code",
   "execution_count": 35,
   "id": "d95de706",
   "metadata": {},
   "outputs": [
    {
     "name": "stderr",
     "output_type": "stream",
     "text": [
      "Some weights of BertForSequenceClassification were not initialized from the model checkpoint at microsoft/BiomedNLP-PubMedBERT-base-uncased-abstract-fulltext and are newly initialized: ['classifier.bias', 'classifier.weight']\n",
      "You should probably TRAIN this model on a down-stream task to be able to use it for predictions and inference.\n"
     ]
    },
    {
     "name": "stdout",
     "output_type": "stream",
     "text": [
      "Class weights (higher = rarer class):\n",
      "autophosphorylation  0.27\n",
      "autoregulation       1.21\n",
      "autocatalytic        1.29\n",
      "autoinhibition       1.57\n",
      "autoubiquitination   1.63\n",
      "autolysis            4.94\n",
      "autoinducer          4.94\n",
      "\n",
      "✓ Loaded Stage 2 model with 109,487,623 parameters\n"
     ]
    }
   ],
   "source": [
    "from sklearn.utils.class_weight import compute_class_weight\n",
    "\n",
    "# Load fresh PubMedBERT for 7-way classification\n",
    "model_s2 = AutoModelForSequenceClassification.from_pretrained(\n",
    "    model_name,\n",
    "    num_labels=7,\n",
    "    problem_type=\"single_label_classification\",\n",
    "    use_safetensors=True\n",
    ")\n",
    "model_s2 = model_s2.to(device)\n",
    "\n",
    "# Calculate class weights to handle imbalance\n",
    "class_weights = compute_class_weight(\n",
    "    'balanced',\n",
    "    classes=np.unique(train_df['numeric_label']),\n",
    "    y=train_df['numeric_label']\n",
    ")\n",
    "class_weights = torch.tensor(class_weights, dtype=torch.float).to(device)\n",
    "\n",
    "print(\"Class weights (higher = rarer class):\")\n",
    "for label, weight in zip(label_map.keys(), class_weights):\n",
    "    print(f\"{label:20} {weight:.2f}\")\n",
    "\n",
    "print(f\"\\n✓ Loaded Stage 2 model with {model_s2.num_parameters():,} parameters\")"
   ]
  },
  {
   "cell_type": "markdown",
   "id": "2f8ecd12",
   "metadata": {},
   "source": [
    "### Step 4: Setup Stage 2 Training with Weighted Loss"
   ]
  },
  {
   "cell_type": "code",
   "execution_count": 36,
   "id": "d136db6d",
   "metadata": {},
   "outputs": [
    {
     "name": "stdout",
     "output_type": "stream",
     "text": [
      "Stage 2 training setup:\n",
      "Epochs: 4\n",
      "Total steps: 236\n",
      "Using weighted CrossEntropyLoss\n"
     ]
    }
   ],
   "source": [
    "# Training parameters\n",
    "epochs_s2 = 4  # Slightly more epochs for harder task\n",
    "learning_rate_s2 = 2e-5\n",
    "\n",
    "# Optimizer and scheduler\n",
    "optimizer_s2 = AdamW(model_s2.parameters(), lr=learning_rate_s2)\n",
    "total_steps_s2 = len(train_loader_s2) * epochs_s2\n",
    "warmup_steps_s2 = total_steps_s2 // 10\n",
    "\n",
    "scheduler_s2 = get_linear_schedule_with_warmup(\n",
    "    optimizer_s2,\n",
    "    num_warmup_steps=warmup_steps_s2,\n",
    "    num_training_steps=total_steps_s2\n",
    ")\n",
    "\n",
    "# Weighted loss function\n",
    "loss_fn = torch.nn.CrossEntropyLoss(weight=class_weights)\n",
    "\n",
    "print(f\"Stage 2 training setup:\")\n",
    "print(f\"Epochs: {epochs_s2}\")\n",
    "print(f\"Total steps: {total_steps_s2}\")\n",
    "print(f\"Using weighted CrossEntropyLoss\")"
   ]
  },
  {
   "cell_type": "markdown",
   "id": "415c339f",
   "metadata": {},
   "source": [
    "### Step 5: Stage 2 Training Functions"
   ]
  },
  {
   "cell_type": "markdown",
   "id": "5e130d82",
   "metadata": {},
   "source": []
  },
  {
   "cell_type": "code",
   "execution_count": 37,
   "id": "09d5daf3",
   "metadata": {},
   "outputs": [
    {
     "name": "stdout",
     "output_type": "stream",
     "text": [
      "✓ Stage 2 training functions ready\n"
     ]
    }
   ],
   "source": [
    "def train_epoch_s2(model, dataloader, optimizer, scheduler, loss_fn, device):\n",
    "    model.train()\n",
    "    total_loss = 0\n",
    "    predictions, true_labels = [], []\n",
    "    \n",
    "    for batch in tqdm(dataloader, desc=\"Training\"):\n",
    "        input_ids = batch['input_ids'].to(device)\n",
    "        attention_mask = batch['attention_mask'].to(device)\n",
    "        labels = batch['labels'].to(device)\n",
    "        \n",
    "        # Forward pass\n",
    "        outputs = model(input_ids=input_ids, attention_mask=attention_mask)\n",
    "        loss = loss_fn(outputs.logits, labels)\n",
    "        \n",
    "        # Backward pass\n",
    "        optimizer.zero_grad()\n",
    "        loss.backward()\n",
    "        optimizer.step()\n",
    "        scheduler.step()\n",
    "        \n",
    "        total_loss += loss.item()\n",
    "        \n",
    "        preds = torch.argmax(outputs.logits, dim=1)\n",
    "        predictions.extend(preds.cpu().numpy())\n",
    "        true_labels.extend(labels.cpu().numpy())\n",
    "    \n",
    "    avg_loss = total_loss / len(dataloader)\n",
    "    accuracy = accuracy_score(true_labels, predictions)\n",
    "    \n",
    "    return avg_loss, accuracy\n",
    "\n",
    "def evaluate_s2(model, dataloader, device):\n",
    "    model.eval()\n",
    "    predictions, true_labels = [], []\n",
    "    \n",
    "    with torch.no_grad():\n",
    "        for batch in tqdm(dataloader, desc=\"Evaluating\"):\n",
    "            input_ids = batch['input_ids'].to(device)\n",
    "            attention_mask = batch['attention_mask'].to(device)\n",
    "            labels = batch['labels'].to(device)\n",
    "            \n",
    "            outputs = model(input_ids=input_ids, attention_mask=attention_mask)\n",
    "            preds = torch.argmax(outputs.logits, dim=1)\n",
    "            \n",
    "            predictions.extend(preds.cpu().numpy())\n",
    "            true_labels.extend(labels.cpu().numpy())\n",
    "    \n",
    "    # Compute metrics\n",
    "    accuracy = accuracy_score(true_labels, predictions)\n",
    "    \n",
    "    # Macro F1 (treats all classes equally - important for imbalanced data)\n",
    "    macro_p, macro_r, macro_f1, _ = precision_recall_fscore_support(\n",
    "        true_labels, predictions, average='macro', zero_division=0\n",
    "    )\n",
    "    \n",
    "    # Weighted F1 (accounts for class sizes)\n",
    "    weighted_p, weighted_r, weighted_f1, _ = precision_recall_fscore_support(\n",
    "        true_labels, predictions, average='weighted', zero_division=0\n",
    "    )\n",
    "    \n",
    "    return accuracy, macro_p, macro_r, macro_f1, weighted_f1\n",
    "\n",
    "print(\"✓ Stage 2 training functions ready\")"
   ]
  },
  {
   "cell_type": "code",
   "execution_count": 38,
   "id": "8c4017e7",
   "metadata": {},
   "outputs": [
    {
     "name": "stdout",
     "output_type": "stream",
     "text": [
      "\n",
      "Epoch 1/4\n"
     ]
    },
    {
     "name": "stderr",
     "output_type": "stream",
     "text": [
      "Training: 100%|██████████| 59/59 [12:12<00:00, 12.41s/it]\n",
      "Evaluating: 100%|██████████| 13/13 [00:28<00:00,  2.18s/it]\n"
     ]
    },
    {
     "name": "stdout",
     "output_type": "stream",
     "text": [
      "Train Loss: 1.8028, Train Acc: 0.2851\n",
      "Val Acc: 0.7050\n",
      "Val Macro F1: 0.5918 (treats all classes equally)\n",
      "Val Weighted F1: 0.7200 (accounts for class sizes)\n",
      "✓ Saved best model (Macro F1: 0.5918)\n",
      "\n",
      "Epoch 2/4\n"
     ]
    },
    {
     "name": "stderr",
     "output_type": "stream",
     "text": [
      "Training: 100%|██████████| 59/59 [12:23<00:00, 12.61s/it]\n",
      "Evaluating: 100%|██████████| 13/13 [00:30<00:00,  2.38s/it]\n"
     ]
    },
    {
     "name": "stdout",
     "output_type": "stream",
     "text": [
      "Train Loss: 0.8115, Train Acc: 0.8542\n",
      "Val Acc: 0.8950\n",
      "Val Macro F1: 0.8816 (treats all classes equally)\n",
      "Val Weighted F1: 0.8971 (accounts for class sizes)\n",
      "✓ Saved best model (Macro F1: 0.8816)\n",
      "\n",
      "Epoch 3/4\n"
     ]
    },
    {
     "name": "stderr",
     "output_type": "stream",
     "text": [
      "Training: 100%|██████████| 59/59 [12:25<00:00, 12.64s/it]\n",
      "Evaluating: 100%|██████████| 13/13 [00:29<00:00,  2.29s/it]\n"
     ]
    },
    {
     "name": "stdout",
     "output_type": "stream",
     "text": [
      "Train Loss: 0.2708, Train Acc: 0.9614\n",
      "Val Acc: 0.9250\n",
      "Val Macro F1: 0.9044 (treats all classes equally)\n",
      "Val Weighted F1: 0.9258 (accounts for class sizes)\n",
      "✓ Saved best model (Macro F1: 0.9044)\n",
      "\n",
      "Epoch 4/4\n"
     ]
    },
    {
     "name": "stderr",
     "output_type": "stream",
     "text": [
      "Training: 100%|██████████| 59/59 [11:52<00:00, 12.08s/it]\n",
      "Evaluating: 100%|██████████| 13/13 [00:28<00:00,  2.19s/it]\n"
     ]
    },
    {
     "name": "stdout",
     "output_type": "stream",
     "text": [
      "Train Loss: 0.1708, Train Acc: 0.9764\n",
      "Val Acc: 0.9300\n",
      "Val Macro F1: 0.9078 (treats all classes equally)\n",
      "Val Weighted F1: 0.9308 (accounts for class sizes)\n",
      "✓ Saved best model (Macro F1: 0.9078)\n"
     ]
    }
   ],
   "source": [
    "# Train Stage 2\n",
    "best_macro_f1 = 0\n",
    "\n",
    "for epoch in range(epochs_s2):\n",
    "    print(f\"\\nEpoch {epoch + 1}/{epochs_s2}\")\n",
    "    \n",
    "    train_loss, train_acc = train_epoch_s2(model_s2, train_loader_s2, optimizer_s2, scheduler_s2, loss_fn, device)\n",
    "    val_acc, val_macro_p, val_macro_r, val_macro_f1, val_weighted_f1 = evaluate_s2(model_s2, val_loader_s2, device)\n",
    "    \n",
    "    print(f\"Train Loss: {train_loss:.4f}, Train Acc: {train_acc:.4f}\")\n",
    "    print(f\"Val Acc: {val_acc:.4f}\")\n",
    "    print(f\"Val Macro F1: {val_macro_f1:.4f} (treats all classes equally)\")\n",
    "    print(f\"Val Weighted F1: {val_weighted_f1:.4f} (accounts for class sizes)\")\n",
    "    \n",
    "    # Save best model based on macro F1 (care about all classes)\n",
    "    if val_macro_f1 > best_macro_f1:\n",
    "        best_macro_f1 = val_macro_f1\n",
    "        torch.save(model_s2.state_dict(), 'models/stage2_best.pt')\n",
    "        print(f\"✓ Saved best model (Macro F1: {best_macro_f1:.4f})\")"
   ]
  },
  {
   "cell_type": "code",
   "execution_count": null,
   "id": "24a391df",
   "metadata": {},
   "outputs": [
    {
     "name": "stdout",
     "output_type": "stream",
     "text": [
      "✓ Everything reloaded, ready to evaluate\n"
     ]
    }
   ],
   "source": [
    "# Load test data\n",
    "test_df = pd.read_csv('data/processed/test.csv')\n",
    "test_df['numeric_label'] = test_df['label'].map(label_map)\n",
    "\n",
    "# Create test dataset and loader\n",
    "test_dataset_s2 = MultiClassDataset(test_df, tokenizer)\n",
    "test_loader_s2 = DataLoader(test_dataset_s2, batch_size=16)\n"
   ]
  },
  {
   "cell_type": "code",
   "execution_count": 7,
   "id": "e0d9b903",
   "metadata": {},
   "outputs": [
    {
     "name": "stderr",
     "output_type": "stream",
     "text": [
      "Evaluating: 100%|██████████| 13/13 [00:27<00:00,  2.10s/it]"
     ]
    },
    {
     "name": "stdout",
     "output_type": "stream",
     "text": [
      "\n",
      "Stage 2 Test Set Performance:\n",
      "Accuracy: 0.9751\n",
      "Macro Precision: 0.9651\n",
      "Macro Recall: 0.9867\n",
      "Macro F1: 0.9754 (all classes equal weight)\n",
      "Weighted F1: 0.9754 (by class size)\n"
     ]
    },
    {
     "name": "stderr",
     "output_type": "stream",
     "text": [
      "\n"
     ]
    }
   ],
   "source": [
    "# Evaluate on test set\n",
    "test_acc, test_macro_p, test_macro_r, test_macro_f1, test_weighted_f1 = evaluate_s2(model_s2, test_loader_s2, device)\n",
    "\n",
    "print(\"\\nStage 2 Test Set Performance:\")\n",
    "print(f\"Accuracy: {test_acc:.4f}\")\n",
    "print(f\"Macro Precision: {test_macro_p:.4f}\")\n",
    "print(f\"Macro Recall: {test_macro_r:.4f}\")\n",
    "print(f\"Macro F1: {test_macro_f1:.4f} (all classes equal weight)\")\n",
    "print(f\"Weighted F1: {test_weighted_f1:.4f} (by class size)\")"
   ]
  },
  {
   "cell_type": "code",
   "execution_count": 8,
   "id": "08962314",
   "metadata": {},
   "outputs": [
    {
     "name": "stdout",
     "output_type": "stream",
     "text": [
      "Per-Class Performance:\n",
      "\n",
      "                     precision    recall  f1-score   support\n",
      "\n",
      "autophosphorylation     1.0000    0.9626    0.9810       107\n",
      "     autoregulation     1.0000    1.0000    1.0000        24\n",
      "      autocatalytic     0.9565    1.0000    0.9778        22\n",
      "     autoinhibition     0.9048    1.0000    0.9500        19\n",
      " autoubiquitination     0.8947    0.9444    0.9189        18\n",
      "          autolysis     1.0000    1.0000    1.0000         5\n",
      "        autoinducer     1.0000    1.0000    1.0000         6\n",
      "\n",
      "           accuracy                         0.9751       201\n",
      "          macro avg     0.9651    0.9867    0.9754       201\n",
      "       weighted avg     0.9768    0.9751    0.9754       201\n",
      "\n"
     ]
    }
   ],
   "source": [
    "from sklearn.metrics import classification_report, confusion_matrix\n",
    "import seaborn as sns\n",
    "import matplotlib.pyplot as plt\n",
    "\n",
    "# Get predictions\n",
    "model_s2.eval()\n",
    "all_preds = []\n",
    "all_labels = []\n",
    "\n",
    "with torch.no_grad():\n",
    "    for batch in test_loader_s2:\n",
    "        input_ids = batch['input_ids'].to(device)\n",
    "        attention_mask = batch['attention_mask'].to(device)\n",
    "        labels = batch['labels']\n",
    "        \n",
    "        outputs = model_s2(input_ids=input_ids, attention_mask=attention_mask)\n",
    "        preds = torch.argmax(outputs.logits, dim=1)\n",
    "        \n",
    "        all_preds.extend(preds.cpu().numpy())\n",
    "        all_labels.extend(labels.numpy())\n",
    "\n",
    "# Classification report\n",
    "label_names = list(label_map.keys())\n",
    "print(\"Per-Class Performance:\\n\")\n",
    "print(classification_report(all_labels, all_preds, target_names=label_names, digits=4))"
   ]
  },
  {
   "cell_type": "code",
   "execution_count": 9,
   "id": "e919f338",
   "metadata": {},
   "outputs": [
    {
     "data": {
      "image/png": "[encoded data removed]",
      "text/plain": [
       "<Figure size 1000x800 with 2 Axes>"
      ]
     },
     "metadata": {},
     "output_type": "display_data"
    },
    {
     "name": "stdout",
     "output_type": "stream",
     "text": [
      "\n",
      "Total errors: 5 out of 201 (2.5%)\n"
     ]
    }
   ],
   "source": [
    "# Confusion matrix\n",
    "cm = confusion_matrix(all_labels, all_preds)\n",
    "\n",
    "plt.figure(figsize=(10, 8))\n",
    "sns.heatmap(cm, annot=True, fmt='d', cmap='Blues', \n",
    "            xticklabels=label_names, yticklabels=label_names)\n",
    "plt.xlabel('Predicted')\n",
    "plt.ylabel('True')\n",
    "plt.title('Stage 2 Confusion Matrix')\n",
    "plt.xticks(rotation=45, ha='right')\n",
    "plt.yticks(rotation=0)\n",
    "plt.tight_layout()\n",
    "plt.show()\n",
    "\n",
    "# Show specific errors\n",
    "errors = np.where(np.array(all_preds) != np.array(all_labels))[0]\n",
    "print(f\"\\nTotal errors: {len(errors)} out of 201 ({len(errors)/201*100:.1f}%)\")"
   ]
  }
 ],
 "metadata": {
  "kernelspec": {
   "display_name": "autoregulatory",
   "language": "python",
   "name": "python3"
  },
  "language_info": {
   "codemirror_mode": {
    "name": "ipython",
    "version": 3
   },
   "file_extension": ".py",
   "mimetype": "text/x-python",
   "name": "python",
   "nbconvert_exporter": "python",
   "pygments_lexer": "ipython3",
   "version": "3.11.14"
  }
 },
 "nbformat": 4,
 "nbformat_minor": 5
}
